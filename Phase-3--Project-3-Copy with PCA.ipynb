{
 "cells": [
  {
   "cell_type": "markdown",
   "metadata": {},
   "source": [
    "# Disposition from Substance Use Treatment Programs"
   ]
  },
  {
   "cell_type": "markdown",
   "metadata": {},
   "source": [
    "## Business Case"
   ]
  },
  {
   "cell_type": "markdown",
   "metadata": {},
   "source": [
    "### Situation\n",
    "\n",
    "A substance use treatment organization neeeds to tailor its care model on the key areas which will contribute most to sucessful recovery.  There are limited resources for care navigation and so it is essential that the care team focus resources in an optimal way.  "
   ]
  },
  {
   "cell_type": "markdown",
   "metadata": {},
   "source": [
    "## About the Data"
   ]
  },
  {
   "cell_type": "markdown",
   "metadata": {},
   "source": [
    "#### Source: \n",
    "\n",
    " - The data for this analysis was obtained from the Substance Abuse and Mental Health Services Administration (SAMHSA), a sub-division of the Department of Health and Human Services (DHS)\n",
    " - The specific dataset is the Treatment Episode Data - Discharges for 2019. This dataset contains 1,722,503 records.  Each record represents a unique treatment episode for an individual.  The data is deidentified by SAMHSA to to meet HIPAA requirements.  https://www.samhsa.gov/data/report/treatment-episode-data-set-teds-2019-admissions\n",
    " - The data dictionary can be found here: https://www.datafiles.samhsa.gov/sites/default/files/field-uploads-protected/studies/TEDS-D-2019/TEDS-D-2019-datasets/TEDS-D-2019-DS0001/TEDS-D-2019-DS0001-info/TEDS-D-2019-DS0001-info-codebook_V1.pdf\n",
    " \n",
    "#### Exclusions/Inclusions: \n",
    " \n",
    " * For the purpose of this study, 24 hour detox, and inpatient (hospital) therapy were excluded due to the abbreviate nature of the detox program and the inability of individuals to work or seek employment while an inpatient. The included programs are: \\\n",
    "\n",
    "    - **Ambulatory Outpatient Intensive Therapy** - Minimum treatment ≥ 2 hours of therapy per day at least 3 times per week\n",
    "        - N = 235,640\n",
    "    - **Ambulatory Outpatient Non-Intensive Therapy** - Frequency and duration of therapy is less than the Intensive program. \n",
    "        - N = 878,381\n",
    " "
   ]
  },
  {
   "cell_type": "markdown",
   "metadata": {},
   "source": [
    "## Import Tools"
   ]
  },
  {
   "cell_type": "code",
   "execution_count": 290,
   "metadata": {
    "ExecuteTime": {
     "end_time": "2022-07-15T21:11:58.643497Z",
     "start_time": "2022-07-15T21:11:58.632657Z"
    }
   },
   "outputs": [],
   "source": [
    "import numpy as np\n",
    "import pandas as pd\n",
    "import xlrd\n",
    "import os\n",
    "import matplotlib.pyplot as plt\n",
    "import seaborn as sns\n",
    "from sklearn.model_selection import train_test_split, GridSearchCV,\\\n",
    "cross_val_score\n",
    "from sklearn.linear_model import LogisticRegression\n",
    "from sklearn.neighbors import KNeighborsClassifier\n",
    "from sklearn.tree import DecisionTreeClassifier\n",
    "from sklearn.ensemble import BaggingClassifier, RandomForestClassifier,\\\n",
    "ExtraTreesClassifier, VotingClassifier, StackingRegressor\n",
    "from sklearn.metrics import r2_score\n",
    "from sklearn.preprocessing import StandardScaler\n",
    "from sklearn.impute import SimpleImputer\n",
    "from sklearn.linear_model import LinearRegression\n",
    "from sklearn.neighbors import KNeighborsRegressor\n",
    "from sklearn.tree import DecisionTreeRegressor\n",
    "from sklearn.metrics import accuracy_score\n",
    "from sklearn.pipeline import Pipeline\n",
    "from sklearn.compose import ColumnTransformer\n"
   ]
  },
  {
   "cell_type": "markdown",
   "metadata": {},
   "source": [
    "## Import Data"
   ]
  },
  {
   "cell_type": "code",
   "execution_count": 291,
   "metadata": {
    "ExecuteTime": {
     "end_time": "2022-07-15T21:12:03.497553Z",
     "start_time": "2022-07-15T21:11:58.699031Z"
    }
   },
   "outputs": [],
   "source": [
    "df_TEDSD = pd.read_csv('/Users/dolant98/Documents/Flatiron/Projects/Data/tedsd_puf_2019.csv')"
   ]
  },
  {
   "cell_type": "markdown",
   "metadata": {},
   "source": [
    "## Assessment of data cleanliness"
   ]
  },
  {
   "cell_type": "markdown",
   "metadata": {},
   "source": [
    "### Columns and data types:"
   ]
  },
  {
   "cell_type": "code",
   "execution_count": 292,
   "metadata": {
    "ExecuteTime": {
     "end_time": "2022-07-15T21:12:03.505905Z",
     "start_time": "2022-07-15T21:12:03.498833Z"
    }
   },
   "outputs": [
    {
     "name": "stdout",
     "output_type": "stream",
     "text": [
      "<class 'pandas.core.frame.DataFrame'>\n",
      "RangeIndex: 1722503 entries, 0 to 1722502\n",
      "Data columns (total 76 columns):\n",
      " #   Column                 Dtype\n",
      "---  ------                 -----\n",
      " 0   DISYR                  int64\n",
      " 1   CASEID                 int64\n",
      " 2   STFIPS                 int64\n",
      " 3   CBSA2010               int64\n",
      " 4   EDUC                   int64\n",
      " 5   MARSTAT                int64\n",
      " 6   SERVICES               int64\n",
      " 7   DETCRIM                int64\n",
      " 8   LOS                    int64\n",
      " 9   PSOURCE                int64\n",
      " 10  NOPRIOR                int64\n",
      " 11  ARRESTS                int64\n",
      " 12  EMPLOY                 int64\n",
      " 13  METHUSE                int64\n",
      " 14  PSYPROB                int64\n",
      " 15  PREG                   int64\n",
      " 16  GENDER                 int64\n",
      " 17  VET                    int64\n",
      " 18  LIVARAG                int64\n",
      " 19  DAYWAIT                int64\n",
      " 20  SERVICES_D             int64\n",
      " 21  REASON                 int64\n",
      " 22  EMPLOY_D               int64\n",
      " 23  LIVARAG_D              int64\n",
      " 24  ARRESTS_D              int64\n",
      " 25  DSMCRIT                int64\n",
      " 26  AGE                    int64\n",
      " 27  RACE                   int64\n",
      " 28  ETHNIC                 int64\n",
      " 29  DETNLF                 int64\n",
      " 30  DETNLF_D               int64\n",
      " 31  PRIMINC                int64\n",
      " 32  SUB1                   int64\n",
      " 33  SUB2                   int64\n",
      " 34  SUB3                   int64\n",
      " 35  SUB1_D                 int64\n",
      " 36  SUB2_D                 int64\n",
      " 37  SUB3_D                 int64\n",
      " 38  ROUTE1                 int64\n",
      " 39  ROUTE2                 int64\n",
      " 40  ROUTE3                 int64\n",
      " 41  FREQ1                  int64\n",
      " 42  FREQ2                  int64\n",
      " 43  FREQ3                  int64\n",
      " 44  FREQ1_D                int64\n",
      " 45  FREQ2_D                int64\n",
      " 46  FREQ3_D                int64\n",
      " 47  FRSTUSE1               int64\n",
      " 48  FRSTUSE2               int64\n",
      " 49  FRSTUSE3               int64\n",
      " 50  HLTHINS                int64\n",
      " 51  PRIMPAY                int64\n",
      " 52  FREQ_ATND_SELF_HELP    int64\n",
      " 53  FREQ_ATND_SELF_HELP_D  int64\n",
      " 54  ALCFLG                 int64\n",
      " 55  COKEFLG                int64\n",
      " 56  MARFLG                 int64\n",
      " 57  HERFLG                 int64\n",
      " 58  METHFLG                int64\n",
      " 59  OPSYNFLG               int64\n",
      " 60  PCPFLG                 int64\n",
      " 61  HALLFLG                int64\n",
      " 62  MTHAMFLG               int64\n",
      " 63  AMPHFLG                int64\n",
      " 64  STIMFLG                int64\n",
      " 65  BENZFLG                int64\n",
      " 66  TRNQFLG                int64\n",
      " 67  BARBFLG                int64\n",
      " 68  SEDHPFLG               int64\n",
      " 69  INHFLG                 int64\n",
      " 70  OTCFLG                 int64\n",
      " 71  OTHERFLG               int64\n",
      " 72  DIVISION               int64\n",
      " 73  REGION                 int64\n",
      " 74  IDU                    int64\n",
      " 75  ALCDRUG                int64\n",
      "dtypes: int64(76)\n",
      "memory usage: 998.8 MB\n"
     ]
    }
   ],
   "source": [
    "df_TEDSD.info()"
   ]
  },
  {
   "cell_type": "markdown",
   "metadata": {},
   "source": [
    "**NOTE:** \n",
    "- The data has already been converted to numeric values and labeled (see data dictionary).  This takes care of some of the pre-processing steps.  \n",
    "\n",
    "- The number of records matches the expected number based on the supporting documentation linked above.  "
   ]
  },
  {
   "cell_type": "markdown",
   "metadata": {},
   "source": [
    "### Missing/Null/ and Dummy Values\n",
    "\n",
    "The next step is to assess if there are any null values in the df_TEDSD dataframe.  "
   ]
  },
  {
   "cell_type": "code",
   "execution_count": 293,
   "metadata": {
    "ExecuteTime": {
     "end_time": "2022-07-15T21:12:03.550485Z",
     "start_time": "2022-07-15T21:12:03.507360Z"
    }
   },
   "outputs": [
    {
     "data": {
      "text/plain": [
       "False"
      ]
     },
     "execution_count": 293,
     "metadata": {},
     "output_type": "execute_result"
    }
   ],
   "source": [
    "df_TEDSD.isnull().values.any()"
   ]
  },
  {
   "cell_type": "markdown",
   "metadata": {},
   "source": [
    "**Note** While there are no null values, there is a dummy (placeholder) value of \"-9\" which is used to indicate that the data was not collected, is not known, or is not applicable for the individual.  "
   ]
  },
  {
   "cell_type": "code",
   "execution_count": 294,
   "metadata": {
    "ExecuteTime": {
     "end_time": "2022-07-15T21:12:04.482271Z",
     "start_time": "2022-07-15T21:12:03.551971Z"
    }
   },
   "outputs": [
    {
     "data": {
      "text/html": [
       "<div>\n",
       "<style scoped>\n",
       "    .dataframe tbody tr th:only-of-type {\n",
       "        vertical-align: middle;\n",
       "    }\n",
       "\n",
       "    .dataframe tbody tr th {\n",
       "        vertical-align: top;\n",
       "    }\n",
       "\n",
       "    .dataframe thead th {\n",
       "        text-align: right;\n",
       "    }\n",
       "</style>\n",
       "<table border=\"1\" class=\"dataframe\">\n",
       "  <thead>\n",
       "    <tr style=\"text-align: right;\">\n",
       "      <th></th>\n",
       "      <th>DISYR</th>\n",
       "      <th>CASEID</th>\n",
       "      <th>STFIPS</th>\n",
       "      <th>CBSA2010</th>\n",
       "      <th>EDUC</th>\n",
       "      <th>MARSTAT</th>\n",
       "      <th>SERVICES</th>\n",
       "      <th>DETCRIM</th>\n",
       "      <th>LOS</th>\n",
       "      <th>PSOURCE</th>\n",
       "      <th>NOPRIOR</th>\n",
       "      <th>ARRESTS</th>\n",
       "      <th>EMPLOY</th>\n",
       "      <th>METHUSE</th>\n",
       "      <th>PSYPROB</th>\n",
       "      <th>PREG</th>\n",
       "      <th>GENDER</th>\n",
       "      <th>VET</th>\n",
       "      <th>LIVARAG</th>\n",
       "      <th>DAYWAIT</th>\n",
       "      <th>SERVICES_D</th>\n",
       "      <th>REASON</th>\n",
       "      <th>EMPLOY_D</th>\n",
       "      <th>LIVARAG_D</th>\n",
       "      <th>ARRESTS_D</th>\n",
       "      <th>DSMCRIT</th>\n",
       "      <th>AGE</th>\n",
       "      <th>RACE</th>\n",
       "      <th>ETHNIC</th>\n",
       "      <th>DETNLF</th>\n",
       "      <th>DETNLF_D</th>\n",
       "      <th>PRIMINC</th>\n",
       "      <th>SUB1</th>\n",
       "      <th>SUB2</th>\n",
       "      <th>SUB3</th>\n",
       "      <th>SUB1_D</th>\n",
       "      <th>SUB2_D</th>\n",
       "      <th>SUB3_D</th>\n",
       "      <th>ROUTE1</th>\n",
       "      <th>ROUTE2</th>\n",
       "      <th>ROUTE3</th>\n",
       "      <th>FREQ1</th>\n",
       "      <th>FREQ2</th>\n",
       "      <th>FREQ3</th>\n",
       "      <th>FREQ1_D</th>\n",
       "      <th>FREQ2_D</th>\n",
       "      <th>FREQ3_D</th>\n",
       "      <th>FRSTUSE1</th>\n",
       "      <th>FRSTUSE2</th>\n",
       "      <th>FRSTUSE3</th>\n",
       "      <th>HLTHINS</th>\n",
       "      <th>PRIMPAY</th>\n",
       "      <th>FREQ_ATND_SELF_HELP</th>\n",
       "      <th>FREQ_ATND_SELF_HELP_D</th>\n",
       "      <th>ALCFLG</th>\n",
       "      <th>COKEFLG</th>\n",
       "      <th>MARFLG</th>\n",
       "      <th>HERFLG</th>\n",
       "      <th>METHFLG</th>\n",
       "      <th>OPSYNFLG</th>\n",
       "      <th>PCPFLG</th>\n",
       "      <th>HALLFLG</th>\n",
       "      <th>MTHAMFLG</th>\n",
       "      <th>AMPHFLG</th>\n",
       "      <th>STIMFLG</th>\n",
       "      <th>BENZFLG</th>\n",
       "      <th>TRNQFLG</th>\n",
       "      <th>BARBFLG</th>\n",
       "      <th>SEDHPFLG</th>\n",
       "      <th>INHFLG</th>\n",
       "      <th>OTCFLG</th>\n",
       "      <th>OTHERFLG</th>\n",
       "      <th>DIVISION</th>\n",
       "      <th>REGION</th>\n",
       "      <th>IDU</th>\n",
       "      <th>ALCDRUG</th>\n",
       "    </tr>\n",
       "  </thead>\n",
       "  <tbody>\n",
       "    <tr>\n",
       "      <th>0</th>\n",
       "      <td>2019</td>\n",
       "      <td>20191553576</td>\n",
       "      <td>2</td>\n",
       "      <td>-9</td>\n",
       "      <td>4</td>\n",
       "      <td>1</td>\n",
       "      <td>7</td>\n",
       "      <td>-9</td>\n",
       "      <td>37</td>\n",
       "      <td>1</td>\n",
       "      <td>0</td>\n",
       "      <td>0</td>\n",
       "      <td>2</td>\n",
       "      <td>2</td>\n",
       "      <td>1</td>\n",
       "      <td>2</td>\n",
       "      <td>2</td>\n",
       "      <td>2</td>\n",
       "      <td>3</td>\n",
       "      <td>0</td>\n",
       "      <td>7</td>\n",
       "      <td>1</td>\n",
       "      <td>2</td>\n",
       "      <td>3</td>\n",
       "      <td>0</td>\n",
       "      <td>19</td>\n",
       "      <td>4</td>\n",
       "      <td>1</td>\n",
       "      <td>4</td>\n",
       "      <td>-9</td>\n",
       "      <td>-9</td>\n",
       "      <td>1</td>\n",
       "      <td>2</td>\n",
       "      <td>1</td>\n",
       "      <td>1</td>\n",
       "      <td>2</td>\n",
       "      <td>1</td>\n",
       "      <td>1</td>\n",
       "      <td>1</td>\n",
       "      <td>-9</td>\n",
       "      <td>-9</td>\n",
       "      <td>2</td>\n",
       "      <td>-9</td>\n",
       "      <td>-9</td>\n",
       "      <td>2</td>\n",
       "      <td>-9</td>\n",
       "      <td>-9</td>\n",
       "      <td>5</td>\n",
       "      <td>-9</td>\n",
       "      <td>-9</td>\n",
       "      <td>3</td>\n",
       "      <td>7</td>\n",
       "      <td>1</td>\n",
       "      <td>1</td>\n",
       "      <td>1</td>\n",
       "      <td>0</td>\n",
       "      <td>0</td>\n",
       "      <td>0</td>\n",
       "      <td>0</td>\n",
       "      <td>0</td>\n",
       "      <td>0</td>\n",
       "      <td>0</td>\n",
       "      <td>0</td>\n",
       "      <td>0</td>\n",
       "      <td>0</td>\n",
       "      <td>0</td>\n",
       "      <td>0</td>\n",
       "      <td>0</td>\n",
       "      <td>0</td>\n",
       "      <td>0</td>\n",
       "      <td>0</td>\n",
       "      <td>0</td>\n",
       "      <td>9</td>\n",
       "      <td>4</td>\n",
       "      <td>0</td>\n",
       "      <td>1</td>\n",
       "    </tr>\n",
       "    <tr>\n",
       "      <th>1</th>\n",
       "      <td>2019</td>\n",
       "      <td>20191465214</td>\n",
       "      <td>2</td>\n",
       "      <td>-9</td>\n",
       "      <td>3</td>\n",
       "      <td>1</td>\n",
       "      <td>7</td>\n",
       "      <td>-9</td>\n",
       "      <td>35</td>\n",
       "      <td>1</td>\n",
       "      <td>0</td>\n",
       "      <td>0</td>\n",
       "      <td>1</td>\n",
       "      <td>2</td>\n",
       "      <td>1</td>\n",
       "      <td>2</td>\n",
       "      <td>2</td>\n",
       "      <td>2</td>\n",
       "      <td>3</td>\n",
       "      <td>0</td>\n",
       "      <td>7</td>\n",
       "      <td>3</td>\n",
       "      <td>1</td>\n",
       "      <td>3</td>\n",
       "      <td>0</td>\n",
       "      <td>4</td>\n",
       "      <td>5</td>\n",
       "      <td>1</td>\n",
       "      <td>4</td>\n",
       "      <td>-9</td>\n",
       "      <td>-9</td>\n",
       "      <td>1</td>\n",
       "      <td>2</td>\n",
       "      <td>4</td>\n",
       "      <td>1</td>\n",
       "      <td>2</td>\n",
       "      <td>4</td>\n",
       "      <td>1</td>\n",
       "      <td>1</td>\n",
       "      <td>2</td>\n",
       "      <td>-9</td>\n",
       "      <td>2</td>\n",
       "      <td>3</td>\n",
       "      <td>-9</td>\n",
       "      <td>2</td>\n",
       "      <td>2</td>\n",
       "      <td>-9</td>\n",
       "      <td>3</td>\n",
       "      <td>3</td>\n",
       "      <td>-9</td>\n",
       "      <td>3</td>\n",
       "      <td>7</td>\n",
       "      <td>1</td>\n",
       "      <td>1</td>\n",
       "      <td>1</td>\n",
       "      <td>0</td>\n",
       "      <td>1</td>\n",
       "      <td>0</td>\n",
       "      <td>0</td>\n",
       "      <td>0</td>\n",
       "      <td>0</td>\n",
       "      <td>0</td>\n",
       "      <td>0</td>\n",
       "      <td>0</td>\n",
       "      <td>0</td>\n",
       "      <td>0</td>\n",
       "      <td>0</td>\n",
       "      <td>0</td>\n",
       "      <td>0</td>\n",
       "      <td>0</td>\n",
       "      <td>0</td>\n",
       "      <td>0</td>\n",
       "      <td>9</td>\n",
       "      <td>4</td>\n",
       "      <td>0</td>\n",
       "      <td>3</td>\n",
       "    </tr>\n",
       "    <tr>\n",
       "      <th>2</th>\n",
       "      <td>2019</td>\n",
       "      <td>20191443889</td>\n",
       "      <td>2</td>\n",
       "      <td>-9</td>\n",
       "      <td>2</td>\n",
       "      <td>1</td>\n",
       "      <td>7</td>\n",
       "      <td>-9</td>\n",
       "      <td>35</td>\n",
       "      <td>1</td>\n",
       "      <td>0</td>\n",
       "      <td>0</td>\n",
       "      <td>4</td>\n",
       "      <td>2</td>\n",
       "      <td>1</td>\n",
       "      <td>2</td>\n",
       "      <td>2</td>\n",
       "      <td>2</td>\n",
       "      <td>3</td>\n",
       "      <td>0</td>\n",
       "      <td>7</td>\n",
       "      <td>3</td>\n",
       "      <td>4</td>\n",
       "      <td>3</td>\n",
       "      <td>0</td>\n",
       "      <td>19</td>\n",
       "      <td>1</td>\n",
       "      <td>8</td>\n",
       "      <td>4</td>\n",
       "      <td>2</td>\n",
       "      <td>2</td>\n",
       "      <td>4</td>\n",
       "      <td>2</td>\n",
       "      <td>4</td>\n",
       "      <td>1</td>\n",
       "      <td>2</td>\n",
       "      <td>4</td>\n",
       "      <td>1</td>\n",
       "      <td>1</td>\n",
       "      <td>2</td>\n",
       "      <td>-9</td>\n",
       "      <td>2</td>\n",
       "      <td>2</td>\n",
       "      <td>-9</td>\n",
       "      <td>2</td>\n",
       "      <td>2</td>\n",
       "      <td>-9</td>\n",
       "      <td>2</td>\n",
       "      <td>2</td>\n",
       "      <td>-9</td>\n",
       "      <td>2</td>\n",
       "      <td>4</td>\n",
       "      <td>1</td>\n",
       "      <td>1</td>\n",
       "      <td>1</td>\n",
       "      <td>0</td>\n",
       "      <td>1</td>\n",
       "      <td>0</td>\n",
       "      <td>0</td>\n",
       "      <td>0</td>\n",
       "      <td>0</td>\n",
       "      <td>0</td>\n",
       "      <td>0</td>\n",
       "      <td>0</td>\n",
       "      <td>0</td>\n",
       "      <td>0</td>\n",
       "      <td>0</td>\n",
       "      <td>0</td>\n",
       "      <td>0</td>\n",
       "      <td>0</td>\n",
       "      <td>0</td>\n",
       "      <td>0</td>\n",
       "      <td>9</td>\n",
       "      <td>4</td>\n",
       "      <td>0</td>\n",
       "      <td>3</td>\n",
       "    </tr>\n",
       "    <tr>\n",
       "      <th>3</th>\n",
       "      <td>2019</td>\n",
       "      <td>20191409377</td>\n",
       "      <td>2</td>\n",
       "      <td>-9</td>\n",
       "      <td>3</td>\n",
       "      <td>1</td>\n",
       "      <td>7</td>\n",
       "      <td>-9</td>\n",
       "      <td>37</td>\n",
       "      <td>1</td>\n",
       "      <td>1</td>\n",
       "      <td>0</td>\n",
       "      <td>3</td>\n",
       "      <td>2</td>\n",
       "      <td>1</td>\n",
       "      <td>2</td>\n",
       "      <td>2</td>\n",
       "      <td>2</td>\n",
       "      <td>3</td>\n",
       "      <td>0</td>\n",
       "      <td>7</td>\n",
       "      <td>1</td>\n",
       "      <td>3</td>\n",
       "      <td>3</td>\n",
       "      <td>0</td>\n",
       "      <td>4</td>\n",
       "      <td>5</td>\n",
       "      <td>1</td>\n",
       "      <td>4</td>\n",
       "      <td>-9</td>\n",
       "      <td>-9</td>\n",
       "      <td>4</td>\n",
       "      <td>2</td>\n",
       "      <td>5</td>\n",
       "      <td>4</td>\n",
       "      <td>2</td>\n",
       "      <td>5</td>\n",
       "      <td>4</td>\n",
       "      <td>1</td>\n",
       "      <td>2</td>\n",
       "      <td>2</td>\n",
       "      <td>1</td>\n",
       "      <td>1</td>\n",
       "      <td>1</td>\n",
       "      <td>1</td>\n",
       "      <td>3</td>\n",
       "      <td>1</td>\n",
       "      <td>3</td>\n",
       "      <td>5</td>\n",
       "      <td>3</td>\n",
       "      <td>3</td>\n",
       "      <td>7</td>\n",
       "      <td>4</td>\n",
       "      <td>4</td>\n",
       "      <td>1</td>\n",
       "      <td>0</td>\n",
       "      <td>1</td>\n",
       "      <td>1</td>\n",
       "      <td>0</td>\n",
       "      <td>0</td>\n",
       "      <td>0</td>\n",
       "      <td>0</td>\n",
       "      <td>0</td>\n",
       "      <td>0</td>\n",
       "      <td>0</td>\n",
       "      <td>0</td>\n",
       "      <td>0</td>\n",
       "      <td>0</td>\n",
       "      <td>0</td>\n",
       "      <td>0</td>\n",
       "      <td>0</td>\n",
       "      <td>0</td>\n",
       "      <td>9</td>\n",
       "      <td>4</td>\n",
       "      <td>0</td>\n",
       "      <td>3</td>\n",
       "    </tr>\n",
       "    <tr>\n",
       "      <th>4</th>\n",
       "      <td>2019</td>\n",
       "      <td>20191479567</td>\n",
       "      <td>2</td>\n",
       "      <td>-9</td>\n",
       "      <td>3</td>\n",
       "      <td>3</td>\n",
       "      <td>7</td>\n",
       "      <td>-9</td>\n",
       "      <td>37</td>\n",
       "      <td>1</td>\n",
       "      <td>1</td>\n",
       "      <td>0</td>\n",
       "      <td>4</td>\n",
       "      <td>2</td>\n",
       "      <td>1</td>\n",
       "      <td>2</td>\n",
       "      <td>2</td>\n",
       "      <td>2</td>\n",
       "      <td>3</td>\n",
       "      <td>0</td>\n",
       "      <td>7</td>\n",
       "      <td>3</td>\n",
       "      <td>4</td>\n",
       "      <td>3</td>\n",
       "      <td>0</td>\n",
       "      <td>4</td>\n",
       "      <td>11</td>\n",
       "      <td>8</td>\n",
       "      <td>4</td>\n",
       "      <td>3</td>\n",
       "      <td>3</td>\n",
       "      <td>4</td>\n",
       "      <td>2</td>\n",
       "      <td>1</td>\n",
       "      <td>1</td>\n",
       "      <td>2</td>\n",
       "      <td>1</td>\n",
       "      <td>1</td>\n",
       "      <td>1</td>\n",
       "      <td>-9</td>\n",
       "      <td>-9</td>\n",
       "      <td>1</td>\n",
       "      <td>-9</td>\n",
       "      <td>-9</td>\n",
       "      <td>1</td>\n",
       "      <td>-9</td>\n",
       "      <td>-9</td>\n",
       "      <td>7</td>\n",
       "      <td>-9</td>\n",
       "      <td>-9</td>\n",
       "      <td>3</td>\n",
       "      <td>7</td>\n",
       "      <td>1</td>\n",
       "      <td>1</td>\n",
       "      <td>1</td>\n",
       "      <td>0</td>\n",
       "      <td>0</td>\n",
       "      <td>0</td>\n",
       "      <td>0</td>\n",
       "      <td>0</td>\n",
       "      <td>0</td>\n",
       "      <td>0</td>\n",
       "      <td>0</td>\n",
       "      <td>0</td>\n",
       "      <td>0</td>\n",
       "      <td>0</td>\n",
       "      <td>0</td>\n",
       "      <td>0</td>\n",
       "      <td>0</td>\n",
       "      <td>0</td>\n",
       "      <td>0</td>\n",
       "      <td>0</td>\n",
       "      <td>9</td>\n",
       "      <td>4</td>\n",
       "      <td>0</td>\n",
       "      <td>1</td>\n",
       "    </tr>\n",
       "  </tbody>\n",
       "</table>\n",
       "</div>"
      ],
      "text/plain": [
       "   DISYR       CASEID  STFIPS  CBSA2010  EDUC  MARSTAT  SERVICES  DETCRIM  \\\n",
       "0   2019  20191553576       2        -9     4        1         7       -9   \n",
       "1   2019  20191465214       2        -9     3        1         7       -9   \n",
       "2   2019  20191443889       2        -9     2        1         7       -9   \n",
       "3   2019  20191409377       2        -9     3        1         7       -9   \n",
       "4   2019  20191479567       2        -9     3        3         7       -9   \n",
       "\n",
       "   LOS  PSOURCE  NOPRIOR  ARRESTS  EMPLOY  METHUSE  PSYPROB  PREG  GENDER  \\\n",
       "0   37        1        0        0       2        2        1     2       2   \n",
       "1   35        1        0        0       1        2        1     2       2   \n",
       "2   35        1        0        0       4        2        1     2       2   \n",
       "3   37        1        1        0       3        2        1     2       2   \n",
       "4   37        1        1        0       4        2        1     2       2   \n",
       "\n",
       "   VET  LIVARAG  DAYWAIT  SERVICES_D  REASON  EMPLOY_D  LIVARAG_D  ARRESTS_D  \\\n",
       "0    2        3        0           7       1         2          3          0   \n",
       "1    2        3        0           7       3         1          3          0   \n",
       "2    2        3        0           7       3         4          3          0   \n",
       "3    2        3        0           7       1         3          3          0   \n",
       "4    2        3        0           7       3         4          3          0   \n",
       "\n",
       "   DSMCRIT  AGE  RACE  ETHNIC  DETNLF  DETNLF_D  PRIMINC  SUB1  SUB2  SUB3  \\\n",
       "0       19    4     1       4      -9        -9        1     2     1     1   \n",
       "1        4    5     1       4      -9        -9        1     2     4     1   \n",
       "2       19    1     8       4       2         2        4     2     4     1   \n",
       "3        4    5     1       4      -9        -9        4     2     5     4   \n",
       "4        4   11     8       4       3         3        4     2     1     1   \n",
       "\n",
       "   SUB1_D  SUB2_D  SUB3_D  ROUTE1  ROUTE2  ROUTE3  FREQ1  FREQ2  FREQ3  \\\n",
       "0       2       1       1       1      -9      -9      2     -9     -9   \n",
       "1       2       4       1       1       2      -9      2      3     -9   \n",
       "2       2       4       1       1       2      -9      2      2     -9   \n",
       "3       2       5       4       1       2       2      1      1      1   \n",
       "4       2       1       1       1      -9      -9      1     -9     -9   \n",
       "\n",
       "   FREQ1_D  FREQ2_D  FREQ3_D  FRSTUSE1  FRSTUSE2  FRSTUSE3  HLTHINS  PRIMPAY  \\\n",
       "0        2       -9       -9         5        -9        -9        3        7   \n",
       "1        2        2       -9         3         3        -9        3        7   \n",
       "2        2        2       -9         2         2        -9        2        4   \n",
       "3        1        3        1         3         5         3        3        7   \n",
       "4        1       -9       -9         7        -9        -9        3        7   \n",
       "\n",
       "   FREQ_ATND_SELF_HELP  FREQ_ATND_SELF_HELP_D  ALCFLG  COKEFLG  MARFLG  \\\n",
       "0                    1                      1       1        0       0   \n",
       "1                    1                      1       1        0       1   \n",
       "2                    1                      1       1        0       1   \n",
       "3                    4                      4       1        0       1   \n",
       "4                    1                      1       1        0       0   \n",
       "\n",
       "   HERFLG  METHFLG  OPSYNFLG  PCPFLG  HALLFLG  MTHAMFLG  AMPHFLG  STIMFLG  \\\n",
       "0       0        0         0       0        0         0        0        0   \n",
       "1       0        0         0       0        0         0        0        0   \n",
       "2       0        0         0       0        0         0        0        0   \n",
       "3       1        0         0       0        0         0        0        0   \n",
       "4       0        0         0       0        0         0        0        0   \n",
       "\n",
       "   BENZFLG  TRNQFLG  BARBFLG  SEDHPFLG  INHFLG  OTCFLG  OTHERFLG  DIVISION  \\\n",
       "0        0        0        0         0       0       0         0         9   \n",
       "1        0        0        0         0       0       0         0         9   \n",
       "2        0        0        0         0       0       0         0         9   \n",
       "3        0        0        0         0       0       0         0         9   \n",
       "4        0        0        0         0       0       0         0         9   \n",
       "\n",
       "   REGION  IDU  ALCDRUG  \n",
       "0       4    0        1  \n",
       "1       4    0        3  \n",
       "2       4    0        3  \n",
       "3       4    0        3  \n",
       "4       4    0        1  "
      ]
     },
     "execution_count": 294,
     "metadata": {},
     "output_type": "execute_result"
    }
   ],
   "source": [
    "df_TEDSD[df_TEDSD.isin([-9]).any(axis = 1)].head()"
   ]
  },
  {
   "cell_type": "code",
   "execution_count": 295,
   "metadata": {
    "ExecuteTime": {
     "end_time": "2022-07-15T21:12:04.485195Z",
     "start_time": "2022-07-15T21:12:04.483513Z"
    }
   },
   "outputs": [],
   "source": [
    "pd.set_option('display.max_columns', None)\n",
    "pd.set_option(\"max_rows\", None)"
   ]
  },
  {
   "cell_type": "markdown",
   "metadata": {},
   "source": [
    "**Note:** The output below shows the list of columns the corresponding count of rows with a dummy value of '-9'.  \n",
    "There are many columns for which '-9' accounts for a majority of the records.  The data dictionary/codebook explains that if the column is not relevant for the individual (i.e. - Pregnancy Status), the dummy value is used. "
   ]
  },
  {
   "cell_type": "code",
   "execution_count": 296,
   "metadata": {
    "ExecuteTime": {
     "end_time": "2022-07-15T21:12:06.991029Z",
     "start_time": "2022-07-15T21:12:04.486211Z"
    }
   },
   "outputs": [
    {
     "data": {
      "text/plain": [
       "FREQ3_D                  1441000\n",
       "DETCRIM                  1397909\n",
       "FREQ3                    1372001\n",
       "FRSTUSE3                 1371909\n",
       "ROUTE3                   1362519\n",
       "DETNLF_D                 1332282\n",
       "DETNLF                   1251911\n",
       "FREQ2_D                  1183470\n",
       "PREG                     1136767\n",
       "PRIMPAY                   989974\n",
       "DAYWAIT                   920756\n",
       "HLTHINS                   868565\n",
       "FRSTUSE2                  844104\n",
       "FREQ2                     818003\n",
       "ROUTE2                    817221\n",
       "CBSA2010                  704011\n",
       "PRIMINC                   680082\n",
       "FREQ1_D                   537124\n",
       "DSMCRIT                   410311\n",
       "FREQ_ATND_SELF_HELP_D     376995\n",
       "MARSTAT                   360937\n",
       "LIVARAG_D                 354754\n",
       "ARRESTS_D                 340163\n",
       "FREQ_ATND_SELF_HELP       327054\n",
       "EMPLOY_D                  322858\n",
       "PSYPROB                   225375\n",
       "SUB1_D                    217220\n",
       "FREQ1                     196872\n",
       "SUB3                      185870\n",
       "ARRESTS                   182116\n",
       "METHUSE                   178805\n",
       "EDUC                      174935\n",
       "LIVARAG                   174307\n",
       "VET                       174003\n",
       "EMPLOY                    152365\n",
       "FRSTUSE1                  150579\n",
       "ROUTE1                    142828\n",
       "NOPRIOR                   136613\n",
       "IDU                       131797\n",
       "SUB2_D                    123173\n",
       "PSOURCE                   120477\n",
       "SUB1                       99426\n",
       "SUB3_D                     82543\n",
       "SUB2                       62316\n",
       "ETHNIC                     60872\n",
       "RACE                       58924\n",
       "GENDER                       756\n",
       "SERVICES                       0\n",
       "LOS                            0\n",
       "STFIPS                         0\n",
       "REASON                         0\n",
       "CASEID                         0\n",
       "SERVICES_D                     0\n",
       "ALCDRUG                        0\n",
       "AGE                            0\n",
       "ALCFLG                         0\n",
       "REGION                         0\n",
       "DIVISION                       0\n",
       "OTHERFLG                       0\n",
       "OTCFLG                         0\n",
       "INHFLG                         0\n",
       "SEDHPFLG                       0\n",
       "BARBFLG                        0\n",
       "TRNQFLG                        0\n",
       "BENZFLG                        0\n",
       "STIMFLG                        0\n",
       "AMPHFLG                        0\n",
       "MTHAMFLG                       0\n",
       "HALLFLG                        0\n",
       "PCPFLG                         0\n",
       "OPSYNFLG                       0\n",
       "METHFLG                        0\n",
       "HERFLG                         0\n",
       "MARFLG                         0\n",
       "COKEFLG                        0\n",
       "DISYR                          0\n",
       "dtype: int64"
      ]
     },
     "metadata": {},
     "output_type": "display_data"
    }
   ],
   "source": [
    "display(df_TEDSD[df_TEDSD == -9].count().sort_values(ascending = False))"
   ]
  },
  {
   "cell_type": "markdown",
   "metadata": {},
   "source": [
    "**Employment** - In the case of employment status upon admission to the program, there are a total of 152,365 where this information is not known. This represents 9% of the total population.  See below."
   ]
  },
  {
   "cell_type": "code",
   "execution_count": 297,
   "metadata": {
    "ExecuteTime": {
     "end_time": "2022-07-15T21:12:07.002004Z",
     "start_time": "2022-07-15T21:12:06.992480Z"
    }
   },
   "outputs": [
    {
     "data": {
      "text/plain": [
       " 2   0.07\n",
       "-9   0.09\n",
       " 1   0.16\n",
       " 4   0.32\n",
       " 3   0.37\n",
       "Name: EMPLOY, dtype: float64"
      ]
     },
     "execution_count": 297,
     "metadata": {},
     "output_type": "execute_result"
    }
   ],
   "source": [
    "df_TEDSD['EMPLOY'].value_counts(normalize = True).sort_values(ascending = True)"
   ]
  },
  {
   "cell_type": "markdown",
   "metadata": {},
   "source": [
    "### Columns to drop\n",
    "\n",
    "- DISYR is the discharge year and is always = 2019 in this dataframe.  \n",
    "- CASEID is the unique identifier representing treatment episode encounter.  Since the index also acts as a unique identifier, the CASEID will be dropped.  \n",
    "\n",
    "Dropping these two columns will avoid any skewing when scaling the data"
   ]
  },
  {
   "cell_type": "code",
   "execution_count": 298,
   "metadata": {
    "ExecuteTime": {
     "end_time": "2022-07-15T21:12:07.274253Z",
     "start_time": "2022-07-15T21:12:07.004581Z"
    }
   },
   "outputs": [],
   "source": [
    "df_TEDSD_staging = df_TEDSD.drop(['DISYR','CASEID'], axis = 1)"
   ]
  },
  {
   "cell_type": "markdown",
   "metadata": {},
   "source": [
    "### Create a subset of the dataframe for Outpatient Therapy\n",
    "\n",
    "In order to have comparable population, the 24-hour Detox and Inpatient Treatment Episodes should be excluded.  Based on the documentation on page 33 of the dictionary/codebook, the expected number of records for *SERVICE 6 (Ambulatory - Intensive Outpatient)* and *7 (Ambulatory, Non-intensive Outpatient)* are *878,381* and *235,640* respectively.    "
   ]
  },
  {
   "cell_type": "code",
   "execution_count": 299,
   "metadata": {
    "ExecuteTime": {
     "end_time": "2022-07-15T21:12:07.284990Z",
     "start_time": "2022-07-15T21:12:07.276048Z"
    }
   },
   "outputs": [
    {
     "data": {
      "text/plain": [
       "7    878381\n",
       "2    245663\n",
       "6    235640\n",
       "4    180040\n",
       "5    121580\n",
       "1     43961\n",
       "8     13292\n",
       "3      3946\n",
       "Name: SERVICES, dtype: int64"
      ]
     },
     "execution_count": 299,
     "metadata": {},
     "output_type": "execute_result"
    }
   ],
   "source": [
    "df_TEDSD_staging['SERVICES'].value_counts()"
   ]
  },
  {
   "cell_type": "markdown",
   "metadata": {},
   "source": [
    "Since the counts for the two outpatient categories have been confirmed, a subset of the dataframe is created: **\"td_ted_out\"**"
   ]
  },
  {
   "cell_type": "code",
   "execution_count": 300,
   "metadata": {
    "ExecuteTime": {
     "end_time": "2022-07-15T21:12:07.521052Z",
     "start_time": "2022-07-15T21:12:07.285909Z"
    }
   },
   "outputs": [],
   "source": [
    "df_ted_out = df_TEDSD_staging[df_TEDSD['SERVICES'].isin([6,7])]"
   ]
  },
  {
   "cell_type": "markdown",
   "metadata": {},
   "source": [
    "Based on the number of rows in SERVICE 6 and 7, the number of rows in df_ted_out should = 1,114,021"
   ]
  },
  {
   "cell_type": "code",
   "execution_count": 301,
   "metadata": {
    "ExecuteTime": {
     "end_time": "2022-07-15T21:12:07.524899Z",
     "start_time": "2022-07-15T21:12:07.522242Z"
    }
   },
   "outputs": [
    {
     "data": {
      "text/plain": [
       "(1114021, 74)"
      ]
     },
     "execution_count": 301,
     "metadata": {},
     "output_type": "execute_result"
    }
   ],
   "source": [
    "df_ted_out.shape"
   ]
  },
  {
   "cell_type": "markdown",
   "metadata": {},
   "source": [
    "#### Re-evaluate dummy value frequency in subset"
   ]
  },
  {
   "cell_type": "code",
   "execution_count": 302,
   "metadata": {
    "ExecuteTime": {
     "end_time": "2022-07-15T21:12:08.945344Z",
     "start_time": "2022-07-15T21:12:07.526002Z"
    }
   },
   "outputs": [
    {
     "data": {
      "text/plain": [
       "FREQ3_D                  937839\n",
       "FREQ3                    901600\n",
       "FRSTUSE3                 900053\n",
       "DETNLF_D                 897919\n",
       "ROUTE3                   895315\n",
       "DETNLF                   883080\n",
       "DETCRIM                  855739\n",
       "FREQ2_D                  774124\n",
       "PREG                     698474\n",
       "DAYWAIT                  647995\n",
       "PRIMPAY                  591304\n",
       "FRSTUSE2                 576455\n",
       "FREQ2                    563112\n",
       "ROUTE2                   562169\n",
       "HLTHINS                  545238\n",
       "CBSA2010                 511493\n",
       "PRIMINC                  502579\n",
       "FREQ1_D                  372125\n",
       "FREQ_ATND_SELF_HELP_D    312196\n",
       "LIVARAG_D                244513\n",
       "DSMCRIT                  236385\n",
       "ARRESTS_D                232964\n",
       "MARSTAT                  222671\n",
       "EMPLOY_D                 213229\n",
       "FREQ_ATND_SELF_HELP      199385\n",
       "FREQ1                    166825\n",
       "LIVARAG                  156197\n",
       "EDUC                     156149\n",
       "VET                      154995\n",
       "SUB1_D                   136798\n",
       "FRSTUSE1                 134768\n",
       "EMPLOY                   133203\n",
       "ROUTE1                   129762\n",
       "SUB3                     124476\n",
       "IDU                      121573\n",
       "METHUSE                  111928\n",
       "PSOURCE                  107827\n",
       "ARRESTS                  101735\n",
       "PSYPROB                   98340\n",
       "SUB2_D                    93309\n",
       "SUB1                      92329\n",
       "SUB3_D                    55049\n",
       "ETHNIC                    51457\n",
       "SUB2                      48834\n",
       "NOPRIOR                   48729\n",
       "RACE                      47778\n",
       "GENDER                      463\n",
       "REASON                        0\n",
       "LOS                           0\n",
       "SERVICES                      0\n",
       "SERVICES_D                    0\n",
       "ALCDRUG                       0\n",
       "AGE                           0\n",
       "ALCFLG                        0\n",
       "REGION                        0\n",
       "DIVISION                      0\n",
       "OTHERFLG                      0\n",
       "OTCFLG                        0\n",
       "INHFLG                        0\n",
       "SEDHPFLG                      0\n",
       "BARBFLG                       0\n",
       "TRNQFLG                       0\n",
       "BENZFLG                       0\n",
       "STIMFLG                       0\n",
       "AMPHFLG                       0\n",
       "MTHAMFLG                      0\n",
       "HALLFLG                       0\n",
       "PCPFLG                        0\n",
       "OPSYNFLG                      0\n",
       "METHFLG                       0\n",
       "HERFLG                        0\n",
       "MARFLG                        0\n",
       "COKEFLG                       0\n",
       "STFIPS                        0\n",
       "dtype: int64"
      ]
     },
     "metadata": {},
     "output_type": "display_data"
    }
   ],
   "source": [
    "display(df_ted_out[df_ted_out == -9].count().sort_values(ascending = False))"
   ]
  },
  {
   "cell_type": "markdown",
   "metadata": {},
   "source": [
    "There are still a substantial number of columns and rows with dummy values.  The columns with the most are those which do not apply to all individuals in the treatment program.  For example, the columns which start with sub2, sub3, freq2, freq3, pertain to secondary and tertiary drugs that the individual is using.  If the individual is using only one drug, these columns will contain a -9 in these columns.  "
   ]
  },
  {
   "cell_type": "markdown",
   "metadata": {},
   "source": [
    "## Baseline Model"
   ]
  },
  {
   "cell_type": "markdown",
   "metadata": {},
   "source": [
    "### Train/Test Split \n",
    "- Train Test split using a test size of 33% and Random State = 42"
   ]
  },
  {
   "cell_type": "code",
   "execution_count": 303,
   "metadata": {
    "ExecuteTime": {
     "end_time": "2022-07-15T21:12:09.692612Z",
     "start_time": "2022-07-15T21:12:08.946746Z"
    }
   },
   "outputs": [],
   "source": [
    "# Defining X and y\n",
    "X = df_ted_out.drop('REASON', axis = 1)\n",
    "y = df_ted_out['REASON']\n",
    "\n",
    "# Train-test split\n",
    "# Set test_size=0.33 and random_state=42\n",
    "\n",
    "X_train, X_test, y_train, y_test = train_test_split(X, y, test_size=.33,\n",
    "                                                   random_state=42)\n"
   ]
  },
  {
   "cell_type": "markdown",
   "metadata": {},
   "source": [
    "### Scaling and Transforming Data\n",
    "- X_train is also fitted"
   ]
  },
  {
   "cell_type": "code",
   "execution_count": 304,
   "metadata": {
    "ExecuteTime": {
     "end_time": "2022-07-15T21:12:10.401085Z",
     "start_time": "2022-07-15T21:12:09.693505Z"
    }
   },
   "outputs": [],
   "source": [
    "scaler = StandardScaler()\n",
    "\n",
    "X_train_scaled = scaler.fit_transform(X_train)\n",
    "X_test_scaled = scaler.transform(X_test)"
   ]
  },
  {
   "cell_type": "markdown",
   "metadata": {},
   "source": [
    "#### Review distribution of target (y_train)"
   ]
  },
  {
   "cell_type": "code",
   "execution_count": 305,
   "metadata": {
    "ExecuteTime": {
     "end_time": "2022-07-15T21:12:10.408267Z",
     "start_time": "2022-07-15T21:12:10.402331Z"
    }
   },
   "outputs": [
    {
     "data": {
      "text/plain": [
       "1   0.35\n",
       "2   0.27\n",
       "4   0.24\n",
       "3   0.06\n",
       "7   0.05\n",
       "5   0.02\n",
       "6   0.00\n",
       "Name: REASON, dtype: float64"
      ]
     },
     "execution_count": 305,
     "metadata": {},
     "output_type": "execute_result"
    }
   ],
   "source": [
    "y_train.value_counts(normalize = True)"
   ]
  },
  {
   "cell_type": "markdown",
   "metadata": {},
   "source": [
    "The output above shows:\n",
    "   \n",
    "   - **Completed Treatment** - 35% of the individuals completed treatment \n",
    "   - **Attrition** - 33% dropped out of the program or were terminated by the facility (categories 2 and 3), \n",
    "   - **Transferred** - 24% were transferred to another program, \n",
    "   - **Other** - the remaining 8% were incarcerated, died, or left the program for 'other' reasons.   "
   ]
  },
  {
   "cell_type": "markdown",
   "metadata": {},
   "source": [
    "#### Logistic Regression"
   ]
  },
  {
   "cell_type": "code",
   "execution_count": 306,
   "metadata": {
    "ExecuteTime": {
     "end_time": "2022-07-15T21:13:53.382974Z",
     "start_time": "2022-07-15T21:12:10.409455Z"
    }
   },
   "outputs": [
    {
     "data": {
      "text/plain": [
       "0.6234307885647526"
      ]
     },
     "metadata": {},
     "output_type": "display_data"
    },
    {
     "data": {
      "text/plain": [
       "0.6235613815089751"
      ]
     },
     "metadata": {},
     "output_type": "display_data"
    }
   ],
   "source": [
    "logreg = LogisticRegression(random_state = 42, max_iter = 1000)\n",
    "logreg.fit(X_train_scaled, y_train)\n",
    "display(logreg.score(X_train_scaled, y_train))\n",
    "display(logreg.score(X_test_scaled, y_test))"
   ]
  },
  {
   "cell_type": "markdown",
   "metadata": {},
   "source": [
    "##### Output \n",
    "\n",
    "The score is low at 62%, however it is very close across the train and test data which implies that the model is not overfitting.  The number of REASON categories may be making it difficult for the model to predict the outcome.  As a first step, I will consolidate the 7 categories into 3.  "
   ]
  },
  {
   "cell_type": "markdown",
   "metadata": {},
   "source": [
    "## Refining the dataframe - Part I"
   ]
  },
  {
   "cell_type": "markdown",
   "metadata": {},
   "source": [
    " ### Update to REASON (target) classification"
   ]
  },
  {
   "cell_type": "code",
   "execution_count": 307,
   "metadata": {
    "ExecuteTime": {
     "end_time": "2022-07-15T21:13:53.388602Z",
     "start_time": "2022-07-15T21:13:53.383949Z"
    }
   },
   "outputs": [
    {
     "data": {
      "text/plain": [
       "1   0.35\n",
       "2   0.27\n",
       "4   0.24\n",
       "3   0.06\n",
       "7   0.05\n",
       "5   0.02\n",
       "6   0.00\n",
       "Name: REASON, dtype: float64"
      ]
     },
     "execution_count": 307,
     "metadata": {},
     "output_type": "execute_result"
    }
   ],
   "source": [
    "y_test.value_counts(normalize = True)"
   ]
  },
  {
   "cell_type": "markdown",
   "metadata": {},
   "source": [
    "The distribution of REASON in the y_test file is similar to the distribution in y_train.  That said, the number of categories and lower frequencies for some of them may be weakening the model.  As a result, I will update the REASON classfication to a more concise grouping.  \n",
    "\n",
    "The new grouping is below: \n",
    "\n",
    " - 1 - Complete ---> 1 - Complete\n",
    " - 2 - Dropped Out ---> 0 - Incomplete\n",
    " - 3 - Terminated ---> 0 - Incomplete\n",
    " - 4 - Transferred ---> 3 - Other\n",
    " - 5 - Incarcerated ---> 3 - Other\n",
    " - 6 - Death ---> 3 - Other\n",
    " - 7 - Other ---> 3 - Other"
   ]
  },
  {
   "cell_type": "markdown",
   "metadata": {},
   "source": [
    "The code below is creating and updating a new column to reflect the mapping of REASON codes above. "
   ]
  },
  {
   "cell_type": "code",
   "execution_count": 308,
   "metadata": {
    "ExecuteTime": {
     "end_time": "2022-07-15T21:13:53.586719Z",
     "start_time": "2022-07-15T21:13:53.389568Z"
    }
   },
   "outputs": [],
   "source": [
    "outcome = []\n",
    "\n",
    "for reason in df_ted_out['REASON']:\n",
    "    if reason == 1:   \n",
    "        outcome.append(1)\n",
    "    elif reason == 2: \n",
    "        outcome.append(0)\n",
    "    elif reason == 3: \n",
    "        outcome.append(0)    \n",
    "    else:           \n",
    "        outcome.append(3)"
   ]
  },
  {
   "cell_type": "code",
   "execution_count": 309,
   "metadata": {
    "ExecuteTime": {
     "end_time": "2022-07-15T21:13:53.780513Z",
     "start_time": "2022-07-15T21:13:53.587657Z"
    }
   },
   "outputs": [
    {
     "name": "stderr",
     "output_type": "stream",
     "text": [
      "<ipython-input-309-cb498fb9e484>:1: SettingWithCopyWarning: \n",
      "A value is trying to be set on a copy of a slice from a DataFrame.\n",
      "Try using .loc[row_indexer,col_indexer] = value instead\n",
      "\n",
      "See the caveats in the documentation: https://pandas.pydata.org/pandas-docs/stable/user_guide/indexing.html#returning-a-view-versus-a-copy\n",
      "  df_ted_out['OUTCOME'] = outcome\n"
     ]
    }
   ],
   "source": [
    "df_ted_out['OUTCOME'] = outcome"
   ]
  },
  {
   "cell_type": "code",
   "execution_count": 379,
   "metadata": {
    "ExecuteTime": {
     "end_time": "2022-07-15T22:24:48.231669Z",
     "start_time": "2022-07-15T22:24:48.220058Z"
    }
   },
   "outputs": [
    {
     "data": {
      "text/plain": [
       "(764674, 75)"
      ]
     },
     "execution_count": 379,
     "metadata": {},
     "output_type": "execute_result"
    }
   ],
   "source": [
    "df_ted_out.shape"
   ]
  },
  {
   "cell_type": "code",
   "execution_count": 310,
   "metadata": {
    "ExecuteTime": {
     "end_time": "2022-07-15T21:13:53.783915Z",
     "start_time": "2022-07-15T21:13:53.781423Z"
    }
   },
   "outputs": [
    {
     "data": {
      "text/plain": [
       "0    1\n",
       "1    0\n",
       "2    0\n",
       "3    1\n",
       "4    0\n",
       "5    0\n",
       "6    3\n",
       "7    1\n",
       "8    0\n",
       "9    0\n",
       "Name: OUTCOME, dtype: int64"
      ]
     },
     "execution_count": 310,
     "metadata": {},
     "output_type": "execute_result"
    }
   ],
   "source": [
    "df_ted_out['OUTCOME'].head(10)"
   ]
  },
  {
   "cell_type": "markdown",
   "metadata": {},
   "source": [
    "Drop rows where OUTCOME = 3"
   ]
  },
  {
   "cell_type": "code",
   "execution_count": 311,
   "metadata": {
    "ExecuteTime": {
     "end_time": "2022-07-15T21:13:54.546489Z",
     "start_time": "2022-07-15T21:13:53.784722Z"
    }
   },
   "outputs": [],
   "source": [
    "df_ted_out = df_ted_out[df_ted_out['OUTCOME'] != 3]"
   ]
  },
  {
   "cell_type": "code",
   "execution_count": 312,
   "metadata": {
    "ExecuteTime": {
     "end_time": "2022-07-15T21:13:54.553543Z",
     "start_time": "2022-07-15T21:13:54.547460Z"
    }
   },
   "outputs": [
    {
     "data": {
      "text/plain": [
       "1   0.51\n",
       "0   0.49\n",
       "Name: OUTCOME, dtype: float64"
      ]
     },
     "execution_count": 312,
     "metadata": {},
     "output_type": "execute_result"
    }
   ],
   "source": [
    "df_ted_out['OUTCOME'].value_counts(normalize = True)"
   ]
  },
  {
   "cell_type": "markdown",
   "metadata": {},
   "source": [
    "## Re-running the model - Part I"
   ]
  },
  {
   "cell_type": "markdown",
   "metadata": {},
   "source": [
    "### Updated Logistic Regression"
   ]
  },
  {
   "cell_type": "markdown",
   "metadata": {},
   "source": [
    "#### Train/Test Split \n",
    "\n",
    "Defining X and y.  Note that columns OUTCOME and REASON are dropped when creating X.  "
   ]
  },
  {
   "cell_type": "code",
   "execution_count": 347,
   "metadata": {
    "ExecuteTime": {
     "end_time": "2022-07-15T21:21:13.351731Z",
     "start_time": "2022-07-15T21:21:13.096320Z"
    }
   },
   "outputs": [],
   "source": [
    "# Defining X and y\n",
    "X = df_ted_out.drop(['OUTCOME','REASON'], axis = 1)\n",
    "y = df_ted_out['OUTCOME']\n",
    "\n",
    "# Train-test split\n",
    "# Set test_size=0.33 and random_state=42\n",
    "\n",
    "X_train, X_test, y_train, y_test = train_test_split(X, y, test_size=.33,\n",
    "                                                   random_state=42)"
   ]
  },
  {
   "cell_type": "markdown",
   "metadata": {},
   "source": [
    "#### Scaling and Transforming Data"
   ]
  },
  {
   "cell_type": "code",
   "execution_count": 348,
   "metadata": {
    "ExecuteTime": {
     "end_time": "2022-07-15T21:21:16.482389Z",
     "start_time": "2022-07-15T21:21:16.037064Z"
    }
   },
   "outputs": [],
   "source": [
    "scaler = StandardScaler()\n",
    "\n",
    "X_train_scaled = scaler.fit_transform(X_train)\n",
    "X_test_scaled = scaler.transform(X_test)"
   ]
  },
  {
   "cell_type": "markdown",
   "metadata": {
    "ExecuteTime": {
     "end_time": "2022-07-13T18:00:44.955288Z",
     "start_time": "2022-07-13T18:00:44.946255Z"
    }
   },
   "source": [
    "#### Distribution of  y (target) variable"
   ]
  },
  {
   "cell_type": "code",
   "execution_count": 349,
   "metadata": {
    "ExecuteTime": {
     "end_time": "2022-07-15T21:21:21.571267Z",
     "start_time": "2022-07-15T21:21:21.549072Z"
    }
   },
   "outputs": [
    {
     "data": {
      "text/plain": [
       "1   0.51\n",
       "0   0.49\n",
       "Name: OUTCOME, dtype: float64"
      ]
     },
     "execution_count": 349,
     "metadata": {},
     "output_type": "execute_result"
    }
   ],
   "source": [
    "y_train.value_counts(normalize = True)"
   ]
  },
  {
   "cell_type": "markdown",
   "metadata": {},
   "source": [
    "Note that the three targets are evenly distributed"
   ]
  },
  {
   "cell_type": "markdown",
   "metadata": {
    "ExecuteTime": {
     "end_time": "2022-07-13T18:01:31.459050Z",
     "start_time": "2022-07-13T18:01:31.448790Z"
    }
   },
   "source": [
    "#### Run logistic regression"
   ]
  },
  {
   "cell_type": "code",
   "execution_count": 350,
   "metadata": {
    "ExecuteTime": {
     "end_time": "2022-07-15T21:21:29.844653Z",
     "start_time": "2022-07-15T21:21:25.631236Z"
    }
   },
   "outputs": [
    {
     "data": {
      "text/plain": [
       "0.7616072421930353"
      ]
     },
     "metadata": {},
     "output_type": "display_data"
    },
    {
     "data": {
      "text/plain": [
       "0.7618638123506497"
      ]
     },
     "metadata": {},
     "output_type": "display_data"
    }
   ],
   "source": [
    "logreg = LogisticRegression(random_state = 42, max_iter = 10000)\n",
    "logreg.fit(X_train_scaled, y_train)\n",
    "display(logreg.score(X_train_scaled, y_train))\n",
    "display(logreg.score(X_test_scaled, y_test))"
   ]
  },
  {
   "cell_type": "markdown",
   "metadata": {},
   "source": [
    "The score improved significantly to 76% for both train and test"
   ]
  },
  {
   "cell_type": "markdown",
   "metadata": {},
   "source": [
    "## Refining the dataframe - Part II"
   ]
  },
  {
   "cell_type": "markdown",
   "metadata": {},
   "source": [
    "### Assessing distribution of age and # of episodes pertaining to minors"
   ]
  },
  {
   "cell_type": "code",
   "execution_count": 317,
   "metadata": {
    "ExecuteTime": {
     "end_time": "2022-07-15T21:14:01.712368Z",
     "start_time": "2022-07-15T21:13:59.565655Z"
    }
   },
   "outputs": [
    {
     "data": {
      "image/png": "[encoded data removed]",
      "text/plain": [
       "<Figure size 1152x720 with 1 Axes>"
      ]
     },
     "metadata": {
      "needs_background": "light"
     },
     "output_type": "display_data"
    }
   ],
   "source": [
    "plt.figure(figsize = (16,10))\n",
    "ax = plt.axes()\n",
    "\n",
    "plt.xlabel(\"Age Grouping\")\n",
    "plt.ylabel(\"# of Rows(Episodes)\")\n",
    "plt.hist(df_ted_out[\"AGE\"], edgecolor = \"gray\")\n",
    "  \n",
    "plt.text(9.6, 130000, \"Age Groupings\", fontname=\"Arial\", fontweight=\"bold\", fontsize = 13)\n",
    "plt.text(8.5, 125000, \"1: 12-14 years\")\n",
    "plt.text(8.5, 120000, \"2: 15-17 years\")\n",
    "plt.text(8.5, 115000, \"3: 18-20 years\")\n",
    "plt.text(8.5, 110000, \"4: 21-24 years\")\n",
    "plt.text(8.5, 105000, \"5: 25-29 years\")\n",
    "plt.text(8.5, 100000, \"6: 30-34 years\")\n",
    "plt.text(11, 125000, \"7: 35-39 years\")\n",
    "plt.text(11, 120000, \"8: 40-44 years\")\n",
    "plt.text(11, 115000, \"9: 45-49 years\")\n",
    "plt.text(11, 110000, \"10: 50-54 years\")\n",
    "plt.text(11, 105000, \"11: 55-64 years\")\n",
    "plt.text(11, 100000, \"12: 65-95 years\")\n",
    "\n",
    "plt.xticks(np.arange(1, 12.5, 1))\n",
    "plt.show()"
   ]
  },
  {
   "cell_type": "markdown",
   "metadata": {},
   "source": [
    "The chart above shows the distribution of Treatment Episodes by age group.  "
   ]
  },
  {
   "cell_type": "code",
   "execution_count": 318,
   "metadata": {
    "ExecuteTime": {
     "end_time": "2022-07-15T21:14:01.805815Z",
     "start_time": "2022-07-15T21:14:01.713245Z"
    }
   },
   "outputs": [
    {
     "name": "stdout",
     "output_type": "stream",
     "text": [
      "The number of episodes for individuals younger than 18 is:  28,112\n"
     ]
    }
   ],
   "source": [
    "age_lt_18 = len(df_ted_binary[(df_ted_binary['AGE']==1) | (df_ted_binary['AGE']==2)])\n",
    "print(\"The number of episodes for individuals younger than 18 is: \",\"{:,}\".format(age_lt_18))"
   ]
  },
  {
   "cell_type": "markdown",
   "metadata": {},
   "source": [
    "For the purpose of this analysis, the rows pertaining to individuals younger than 18 years of age will be removed."
   ]
  },
  {
   "cell_type": "code",
   "execution_count": 351,
   "metadata": {
    "ExecuteTime": {
     "end_time": "2022-07-15T21:22:59.922877Z",
     "start_time": "2022-07-15T21:22:59.727397Z"
    }
   },
   "outputs": [],
   "source": [
    "df_ted_binary_gt_17 = df_ted_binary[df_ted_binary['AGE']>2]"
   ]
  },
  {
   "cell_type": "code",
   "execution_count": 352,
   "metadata": {
    "ExecuteTime": {
     "end_time": "2022-07-15T21:23:00.520300Z",
     "start_time": "2022-07-15T21:23:00.511564Z"
    }
   },
   "outputs": [
    {
     "data": {
      "text/plain": [
       "(736562, 75)"
      ]
     },
     "execution_count": 352,
     "metadata": {},
     "output_type": "execute_result"
    }
   ],
   "source": [
    "df_ted_binary_gt_17.shape"
   ]
  },
  {
   "cell_type": "code",
   "execution_count": 353,
   "metadata": {
    "ExecuteTime": {
     "end_time": "2022-07-15T21:23:18.750629Z",
     "start_time": "2022-07-15T21:23:18.488948Z"
    }
   },
   "outputs": [],
   "source": [
    "# Defining X and y\n",
    "X = df_ted_binary_gt_17.drop(['OUTCOME','REASON'], axis = 1)\n",
    "y = df_ted_binary_gt_17['OUTCOME']\n",
    "\n",
    "# Train-test split\n",
    "# Set test_size=0.33 and random_state=42\n",
    "\n",
    "X_train, X_test, y_train, y_test = train_test_split(X, y, test_size=.33,\n",
    "                                                   random_state=42)"
   ]
  },
  {
   "cell_type": "code",
   "execution_count": 354,
   "metadata": {
    "ExecuteTime": {
     "end_time": "2022-07-15T21:23:19.613695Z",
     "start_time": "2022-07-15T21:23:19.343823Z"
    }
   },
   "outputs": [],
   "source": [
    "scaler = StandardScaler()\n",
    "\n",
    "X_train_scaled = scaler.fit_transform(X_train)\n",
    "X_test_scaled = scaler.transform(X_test)"
   ]
  },
  {
   "cell_type": "code",
   "execution_count": 355,
   "metadata": {
    "ExecuteTime": {
     "end_time": "2022-07-15T21:23:20.259088Z",
     "start_time": "2022-07-15T21:23:20.240101Z"
    }
   },
   "outputs": [
    {
     "data": {
      "text/plain": [
       "1   0.51\n",
       "0   0.49\n",
       "Name: OUTCOME, dtype: float64"
      ]
     },
     "execution_count": 355,
     "metadata": {},
     "output_type": "execute_result"
    }
   ],
   "source": [
    "y_train.value_counts(normalize = True)"
   ]
  },
  {
   "cell_type": "code",
   "execution_count": 356,
   "metadata": {
    "ExecuteTime": {
     "end_time": "2022-07-15T21:23:25.266486Z",
     "start_time": "2022-07-15T21:23:21.075213Z"
    }
   },
   "outputs": [
    {
     "data": {
      "text/plain": [
       "0.7638562419958824"
      ]
     },
     "metadata": {},
     "output_type": "display_data"
    },
    {
     "data": {
      "text/plain": [
       "0.7643068137872018"
      ]
     },
     "metadata": {},
     "output_type": "display_data"
    }
   ],
   "source": [
    "logreg = LogisticRegression(random_state = 42, max_iter = 10000)\n",
    "logreg.fit(X_train_scaled, y_train)\n",
    "display(logreg.score(X_train_scaled, y_train))\n",
    "display(logreg.score(X_test_scaled, y_test))"
   ]
  },
  {
   "cell_type": "markdown",
   "metadata": {},
   "source": [
    "## Feature Selection\n",
    "\n",
    "There are 75 features in the dataframe.  These range from characteristics of the substance used by the individual (i.e. - heroin, cocaine, alcohol, etc.) as well as social indicators such as living arrangment, employment, education, etc. ).  \n",
    "\n",
    "Identifying the features that increase the odds of not completing the program are of primary interest to the stakeholder for the purpose of refining their care model.  "
   ]
  },
  {
   "cell_type": "markdown",
   "metadata": {},
   "source": [
    "### Feature Coefficients and Odds"
   ]
  },
  {
   "cell_type": "code",
   "execution_count": 357,
   "metadata": {
    "ExecuteTime": {
     "end_time": "2022-07-15T21:23:33.708978Z",
     "start_time": "2022-07-15T21:23:33.689678Z"
    }
   },
   "outputs": [
    {
     "name": "stdout",
     "output_type": "stream",
     "text": [
      "                  Feature  Coefficients  Odds\n",
      "70                 REGION          0.84  2.32\n",
      "21              ARRESTS_D          0.76  2.14\n",
      "20              LIVARAG_D          0.72  2.06\n",
      "29                   SUB1          0.56  1.75\n",
      "50  FREQ_ATND_SELF_HELP_D          0.51  1.66\n",
      "48                PRIMPAY          0.38  1.46\n",
      "36                 ROUTE2          0.33  1.38\n",
      "5                 DETCRIM          0.28  1.32\n",
      "30                   SUB2          0.26  1.30\n",
      "44               FRSTUSE1          0.25  1.29\n",
      "33                 SUB2_D          0.25  1.28\n",
      "31                   SUB3          0.24  1.27\n",
      "6                     LOS          0.23  1.26\n",
      "12                PSYPROB          0.23  1.26\n",
      "26                 DETNLF          0.14  1.15\n",
      "1                CBSA2010          0.12  1.13\n",
      "40                  FREQ3          0.11  1.11\n",
      "8                 NOPRIOR          0.08  1.09\n",
      "34                 SUB3_D          0.08  1.08\n",
      "19               EMPLOY_D          0.07  1.08\n"
     ]
    }
   ],
   "source": [
    "df_odds = pd.DataFrame({\"Feature\":X_train.columns.tolist(),\"Coefficients\":logreg.coef_[0], \\\n",
    "\"Odds\": np.exp(logreg.coef_[0])}).sort_values(['Coefficients'],ascending = False).head(20)\n",
    "pd.options.display.float_format = '{:.2f}'.format\n",
    "\n",
    "print(df_odds)"
   ]
  },
  {
   "cell_type": "code",
   "execution_count": 358,
   "metadata": {
    "ExecuteTime": {
     "end_time": "2022-07-15T21:23:39.819894Z",
     "start_time": "2022-07-15T21:23:39.667073Z"
    }
   },
   "outputs": [
    {
     "data": {
      "image/png": "[encoded data removed]",
      "text/plain": [
       "<Figure size 1152x720 with 1 Axes>"
      ]
     },
     "metadata": {
      "needs_background": "light"
     },
     "output_type": "display_data"
    }
   ],
   "source": [
    "plt.figure(figsize = (16,10))\n",
    "ax = plt.axes()\n",
    "\n",
    "\n",
    "plt.xlabel(\"Feature\")\n",
    "plt.ylabel(\"Odds\")\n",
    "plt.bar(df_odds[\"Feature\"],df_odds[\"Odds\"], edgecolor = \"gray\")\n",
    "ax.tick_params(axis='x', rotation=90)\n",
    "\n",
    "\n",
    "plt.show()"
   ]
  },
  {
   "cell_type": "markdown",
   "metadata": {},
   "source": [
    "### Analysis of Key Drivers"
   ]
  },
  {
   "cell_type": "markdown",
   "metadata": {},
   "source": [
    "#### Region"
   ]
  },
  {
   "cell_type": "code",
   "execution_count": 359,
   "metadata": {
    "ExecuteTime": {
     "end_time": "2022-07-15T21:23:43.371838Z",
     "start_time": "2022-07-15T21:23:43.225567Z"
    }
   },
   "outputs": [],
   "source": [
    "df_region_1 = df_ted_binary_gt_17[df_ted_binary_gt_17['OUTCOME'] == 1]['REGION']"
   ]
  },
  {
   "cell_type": "code",
   "execution_count": 360,
   "metadata": {
    "ExecuteTime": {
     "end_time": "2022-07-15T21:23:44.085321Z",
     "start_time": "2022-07-15T21:23:44.066521Z"
    }
   },
   "outputs": [
    {
     "data": {
      "text/plain": [
       "4   0.44\n",
       "1   0.22\n",
       "3   0.20\n",
       "2   0.14\n",
       "0   0.00\n",
       "Name: REGION, dtype: float64"
      ]
     },
     "execution_count": 360,
     "metadata": {},
     "output_type": "execute_result"
    }
   ],
   "source": [
    "df_region_1.value_counts(normalize = True)"
   ]
  },
  {
   "cell_type": "code",
   "execution_count": 361,
   "metadata": {
    "ExecuteTime": {
     "end_time": "2022-07-15T21:23:50.255496Z",
     "start_time": "2022-07-15T21:23:50.087178Z"
    }
   },
   "outputs": [],
   "source": [
    "df_region_0 = df_ted_binary_gt_17[df_ted_binary_gt_17['OUTCOME'] == 0]['REGION']"
   ]
  },
  {
   "cell_type": "code",
   "execution_count": 362,
   "metadata": {
    "ExecuteTime": {
     "end_time": "2022-07-15T21:23:51.400936Z",
     "start_time": "2022-07-15T21:23:51.383555Z"
    }
   },
   "outputs": [
    {
     "data": {
      "text/plain": [
       "1   0.32\n",
       "3   0.28\n",
       "2   0.22\n",
       "4   0.18\n",
       "0   0.00\n",
       "Name: REGION, dtype: float64"
      ]
     },
     "execution_count": 362,
     "metadata": {},
     "output_type": "execute_result"
    }
   ],
   "source": [
    "df_region_0.value_counts(normalize = True)"
   ]
  },
  {
   "cell_type": "markdown",
   "metadata": {},
   "source": [
    "#### Arrests"
   ]
  },
  {
   "cell_type": "code",
   "execution_count": 363,
   "metadata": {
    "ExecuteTime": {
     "end_time": "2022-07-15T21:23:54.018636Z",
     "start_time": "2022-07-15T21:23:53.853920Z"
    }
   },
   "outputs": [],
   "source": [
    "df_arrests_1 = df_ted_binary_gt_17[df_ted_binary_gt_17['OUTCOME'] == 1]['ARRESTS_D']"
   ]
  },
  {
   "cell_type": "code",
   "execution_count": 364,
   "metadata": {
    "ExecuteTime": {
     "end_time": "2022-07-15T21:23:55.099492Z",
     "start_time": "2022-07-15T21:23:55.079317Z"
    }
   },
   "outputs": [
    {
     "data": {
      "text/plain": [
       " 0   0.68\n",
       "-9   0.28\n",
       " 1   0.02\n",
       " 2   0.01\n",
       "Name: ARRESTS_D, dtype: float64"
      ]
     },
     "execution_count": 364,
     "metadata": {},
     "output_type": "execute_result"
    }
   ],
   "source": [
    "df_arrests_1.value_counts(normalize = True)"
   ]
  },
  {
   "cell_type": "code",
   "execution_count": 365,
   "metadata": {
    "ExecuteTime": {
     "end_time": "2022-07-15T21:23:58.169704Z",
     "start_time": "2022-07-15T21:23:57.993535Z"
    }
   },
   "outputs": [],
   "source": [
    "df_arrests_0 = df_ted_binary_gt_17[df_ted_binary_gt_17['OUTCOME'] == 0]['ARRESTS_D']"
   ]
  },
  {
   "cell_type": "code",
   "execution_count": 366,
   "metadata": {
    "ExecuteTime": {
     "end_time": "2022-07-15T21:23:58.810067Z",
     "start_time": "2022-07-15T21:23:58.794980Z"
    }
   },
   "outputs": [
    {
     "data": {
      "text/plain": [
       " 0   0.66\n",
       "-9   0.30\n",
       " 1   0.03\n",
       " 2   0.01\n",
       "Name: ARRESTS_D, dtype: float64"
      ]
     },
     "execution_count": 366,
     "metadata": {},
     "output_type": "execute_result"
    }
   ],
   "source": [
    "df_arrests_0.value_counts(normalize = True)"
   ]
  },
  {
   "cell_type": "markdown",
   "metadata": {},
   "source": [
    "#### Living Arrangement"
   ]
  },
  {
   "cell_type": "code",
   "execution_count": 367,
   "metadata": {
    "ExecuteTime": {
     "end_time": "2022-07-15T21:23:59.625682Z",
     "start_time": "2022-07-15T21:23:59.565036Z"
    }
   },
   "outputs": [],
   "source": [
    "df_livarag_1 = df_ted_binary_gt_17[df_ted_binary_gt_17['OUTCOME'] == 1]['LIVARAG_D']"
   ]
  },
  {
   "cell_type": "code",
   "execution_count": 368,
   "metadata": {
    "ExecuteTime": {
     "end_time": "2022-07-15T21:24:00.519324Z",
     "start_time": "2022-07-15T21:24:00.501988Z"
    }
   },
   "outputs": [
    {
     "data": {
      "text/plain": [
       " 3   0.52\n",
       "-9   0.36\n",
       " 2   0.10\n",
       " 1   0.03\n",
       "Name: LIVARAG_D, dtype: float64"
      ]
     },
     "execution_count": 368,
     "metadata": {},
     "output_type": "execute_result"
    }
   ],
   "source": [
    "df_livarag_1.value_counts(normalize = True)"
   ]
  },
  {
   "cell_type": "code",
   "execution_count": 369,
   "metadata": {
    "ExecuteTime": {
     "end_time": "2022-07-15T21:24:02.534093Z",
     "start_time": "2022-07-15T21:24:02.477543Z"
    }
   },
   "outputs": [],
   "source": [
    "df_livarag_0 = df_ted_binary_gt_17[df_ted_binary_gt_17['OUTCOME'] == 0]['LIVARAG_D']"
   ]
  },
  {
   "cell_type": "code",
   "execution_count": 370,
   "metadata": {
    "ExecuteTime": {
     "end_time": "2022-07-15T21:24:03.252699Z",
     "start_time": "2022-07-15T21:24:03.235073Z"
    }
   },
   "outputs": [
    {
     "data": {
      "text/plain": [
       " 3   0.57\n",
       "-9   0.24\n",
       " 2   0.13\n",
       " 1   0.06\n",
       "Name: LIVARAG_D, dtype: float64"
      ]
     },
     "execution_count": 370,
     "metadata": {},
     "output_type": "execute_result"
    }
   ],
   "source": [
    "df_livarag_0.value_counts(normalize = True)"
   ]
  },
  {
   "cell_type": "markdown",
   "metadata": {},
   "source": [
    "#### Primary Substance"
   ]
  },
  {
   "cell_type": "code",
   "execution_count": 371,
   "metadata": {
    "ExecuteTime": {
     "end_time": "2022-07-15T21:24:04.096711Z",
     "start_time": "2022-07-15T21:24:04.037815Z"
    }
   },
   "outputs": [],
   "source": [
    "df_sub1_1 = df_ted_binary_gt_17[df_ted_binary_gt_17['OUTCOME'] == 1]['SUB1']"
   ]
  },
  {
   "cell_type": "code",
   "execution_count": 372,
   "metadata": {
    "ExecuteTime": {
     "end_time": "2022-07-15T21:24:04.957432Z",
     "start_time": "2022-07-15T21:24:04.941448Z"
    }
   },
   "outputs": [
    {
     "data": {
      "text/plain": [
       " 2    0.30\n",
       "-9    0.23\n",
       " 4    0.12\n",
       " 5    0.11\n",
       " 10   0.10\n",
       " 7    0.05\n",
       " 3    0.04\n",
       " 1    0.04\n",
       " 13   0.01\n",
       " 11   0.00\n",
       " 19   0.00\n",
       " 8    0.00\n",
       " 12   0.00\n",
       " 9    0.00\n",
       " 16   0.00\n",
       " 6    0.00\n",
       " 15   0.00\n",
       " 17   0.00\n",
       " 18   0.00\n",
       " 14   0.00\n",
       "Name: SUB1, dtype: float64"
      ]
     },
     "execution_count": 372,
     "metadata": {},
     "output_type": "execute_result"
    }
   ],
   "source": [
    "df_sub1_1.value_counts(normalize = True)"
   ]
  },
  {
   "cell_type": "code",
   "execution_count": 373,
   "metadata": {
    "ExecuteTime": {
     "end_time": "2022-07-15T21:24:06.995077Z",
     "start_time": "2022-07-15T21:24:06.933665Z"
    }
   },
   "outputs": [],
   "source": [
    "df_sub1_0 = df_ted_binary_gt_17[df_ted_binary_gt_17['OUTCOME'] == 0]['SUB1']"
   ]
  },
  {
   "cell_type": "code",
   "execution_count": 374,
   "metadata": {
    "ExecuteTime": {
     "end_time": "2022-07-15T21:24:07.757523Z",
     "start_time": "2022-07-15T21:24:07.739227Z"
    }
   },
   "outputs": [
    {
     "data": {
      "text/plain": [
       " 2    0.26\n",
       " 5    0.23\n",
       " 4    0.16\n",
       " 10   0.14\n",
       " 7    0.08\n",
       " 3    0.07\n",
       "-9    0.01\n",
       " 19   0.01\n",
       " 1    0.01\n",
       " 11   0.01\n",
       " 13   0.01\n",
       " 8    0.00\n",
       " 6    0.00\n",
       " 12   0.00\n",
       " 16   0.00\n",
       " 9    0.00\n",
       " 17   0.00\n",
       " 18   0.00\n",
       " 15   0.00\n",
       " 14   0.00\n",
       "Name: SUB1, dtype: float64"
      ]
     },
     "execution_count": 374,
     "metadata": {},
     "output_type": "execute_result"
    }
   ],
   "source": [
    "df_sub1_0.value_counts(normalize = True)"
   ]
  },
  {
   "cell_type": "markdown",
   "metadata": {},
   "source": [
    "#### Employment Status"
   ]
  },
  {
   "cell_type": "code",
   "execution_count": 375,
   "metadata": {
    "ExecuteTime": {
     "end_time": "2022-07-15T21:24:08.817893Z",
     "start_time": "2022-07-15T21:24:08.753853Z"
    }
   },
   "outputs": [],
   "source": [
    "df_employ_0 =  df_ted_binary_gt_17[df_ted_binary_gt_17['OUTCOME'] == 0]['EMPLOY_D']"
   ]
  },
  {
   "cell_type": "code",
   "execution_count": 376,
   "metadata": {
    "ExecuteTime": {
     "end_time": "2022-07-15T21:24:09.829663Z",
     "start_time": "2022-07-15T21:24:09.814496Z"
    }
   },
   "outputs": [
    {
     "data": {
      "text/plain": [
       " 3   0.30\n",
       "-9   0.24\n",
       " 1   0.19\n",
       " 4   0.19\n",
       " 2   0.08\n",
       "Name: EMPLOY_D, dtype: float64"
      ]
     },
     "execution_count": 376,
     "metadata": {},
     "output_type": "execute_result"
    }
   ],
   "source": [
    "df_employ_0.value_counts(normalize = True)"
   ]
  },
  {
   "cell_type": "code",
   "execution_count": 377,
   "metadata": {
    "ExecuteTime": {
     "end_time": "2022-07-15T21:24:10.656446Z",
     "start_time": "2022-07-15T21:24:10.599414Z"
    }
   },
   "outputs": [],
   "source": [
    "df_employ_1 =  df_ted_binary_gt_17[df_ted_binary_gt_17['OUTCOME'] == 1]['EMPLOY_D']"
   ]
  },
  {
   "cell_type": "code",
   "execution_count": 378,
   "metadata": {
    "ExecuteTime": {
     "end_time": "2022-07-15T21:24:11.317633Z",
     "start_time": "2022-07-15T21:24:11.297876Z"
    }
   },
   "outputs": [
    {
     "data": {
      "text/plain": [
       " 1   0.29\n",
       "-9   0.29\n",
       " 4   0.17\n",
       " 3   0.17\n",
       " 2   0.08\n",
       "Name: EMPLOY_D, dtype: float64"
      ]
     },
     "execution_count": 378,
     "metadata": {},
     "output_type": "execute_result"
    }
   ],
   "source": [
    "df_employ_1.value_counts(normalize = True)"
   ]
  },
  {
   "cell_type": "code",
   "execution_count": null,
   "metadata": {},
   "outputs": [],
   "source": []
  }
 ],
 "metadata": {
  "kernelspec": {
   "display_name": "Python 3",
   "language": "python",
   "name": "python3"
  },
  "language_info": {
   "codemirror_mode": {
    "name": "ipython",
    "version": 3
   },
   "file_extension": ".py",
   "mimetype": "text/x-python",
   "name": "python",
   "nbconvert_exporter": "python",
   "pygments_lexer": "ipython3",
   "version": "3.8.5"
  },
  "latex_envs": {
   "LaTeX_envs_menu_present": true,
   "autoclose": false,
   "autocomplete": true,
   "bibliofile": "biblio.bib",
   "cite_by": "apalike",
   "current_citInitial": 1,
   "eqLabelWithNumbers": true,
   "eqNumInitial": 1,
   "hotkeys": {
    "equation": "Ctrl-E",
    "itemize": "Ctrl-I"
   },
   "labels_anchors": false,
   "latex_user_defs": false,
   "report_style_numbering": false,
   "user_envs_cfg": false
  },
  "toc": {
   "base_numbering": 1,
   "nav_menu": {},
   "number_sections": true,
   "sideBar": true,
   "skip_h1_title": false,
   "title_cell": "Table of Contents",
   "title_sidebar": "Contents",
   "toc_cell": false,
   "toc_position": {},
   "toc_section_display": true,
   "toc_window_display": false
  }
 },
 "nbformat": 4,
 "nbformat_minor": 4
}
