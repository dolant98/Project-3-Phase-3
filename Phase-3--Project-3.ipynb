{
 "cells": [
  {
   "cell_type": "markdown",
   "metadata": {},
   "source": [
    "# Disposition from Substance Use Treatment Programs"
   ]
  },
  {
   "cell_type": "markdown",
   "metadata": {},
   "source": [
    "## Business Case"
   ]
  },
  {
   "cell_type": "markdown",
   "metadata": {},
   "source": [
    "### Situation"
   ]
  },
  {
   "cell_type": "markdown",
   "metadata": {},
   "source": [
    "### Background"
   ]
  },
  {
   "cell_type": "markdown",
   "metadata": {},
   "source": [
    "### Assessment"
   ]
  },
  {
   "cell_type": "markdown",
   "metadata": {},
   "source": [
    "### Findings"
   ]
  },
  {
   "cell_type": "markdown",
   "metadata": {},
   "source": [
    "## Data"
   ]
  },
  {
   "cell_type": "markdown",
   "metadata": {},
   "source": [
    "#### Source: \n",
    "\n",
    " - The data for this analysis was obtained from the Substance Abuse and Mental Health Services Administration (SAMHSA), a sub-division of the Department of Health and Human Services (DHS)\n",
    " - The specific dataset is the Treatment Episode Data - Discharges for 2019. This dataset contains 1,722,503 records.  Each record represents a unique treatment episode for an individual.  The data is deidentified by SAMHSA to to meet HIPAA requirements.  https://www.samhsa.gov/data/report/treatment-episode-data-set-teds-2019-admissions\n",
    " - The data dictionary can be found here: https://www.datafiles.samhsa.gov/sites/default/files/field-uploads-protected/studies/TEDS-D-2019/TEDS-D-2019-datasets/TEDS-D-2019-DS0001/TEDS-D-2019-DS0001-info/TEDS-D-2019-DS0001-info-codebook_V1.pdf\n",
    " \n",
    "#### Exclusions/Inclusions: \n",
    " \n",
    " * For the purpose of this study, 24 hour detox, and inpatient (hospital) therapy were excluded due to the abbreviate nature of the detox program and the inability of individuals to work or seek employment while an inpatient. The included programs are: \\\n",
    "\n",
    "    - **Ambulatory Outpatient Intensive Therapy** - Minimum treatment ≥ 2 hours of therapy per day at least 3 times per week\n",
    "        - N = 235,640\n",
    "    - **Ambulatory Outpatient Non-Intensive Therapy** - Frequency and duration of therapy is less than the Intensive program. \n",
    "        - N = 878,381\n",
    " "
   ]
  },
  {
   "cell_type": "markdown",
   "metadata": {},
   "source": [
    "## Import Tools"
   ]
  },
  {
   "cell_type": "code",
   "execution_count": 1,
   "metadata": {
    "ExecuteTime": {
     "end_time": "2022-07-14T11:01:29.550790Z",
     "start_time": "2022-07-14T11:01:28.563677Z"
    }
   },
   "outputs": [],
   "source": [
    "import numpy as np\n",
    "import pandas as pd\n",
    "import xlrd\n",
    "import os\n",
    "import matplotlib.pyplot as plt\n",
    "import seaborn as sns\n",
    "from sklearn.model_selection import train_test_split, GridSearchCV,\\\n",
    "cross_val_score\n",
    "from sklearn.linear_model import LogisticRegression\n",
    "from sklearn.neighbors import KNeighborsClassifier\n",
    "from sklearn.tree import DecisionTreeClassifier\n",
    "from sklearn.ensemble import BaggingClassifier, RandomForestClassifier,\\\n",
    "ExtraTreesClassifier, VotingClassifier, StackingRegressor\n",
    "from sklearn.metrics import r2_score\n",
    "from sklearn.preprocessing import StandardScaler\n",
    "from sklearn.impute import SimpleImputer\n",
    "from sklearn.linear_model import LinearRegression\n",
    "from sklearn.neighbors import KNeighborsRegressor\n",
    "from sklearn.tree import DecisionTreeRegressor\n",
    "from sklearn.metrics import accuracy_score\n",
    "from sklearn.pipeline import Pipeline\n",
    "from sklearn.compose import ColumnTransformer\n"
   ]
  },
  {
   "cell_type": "markdown",
   "metadata": {},
   "source": [
    "## Import Data"
   ]
  },
  {
   "cell_type": "code",
   "execution_count": 2,
   "metadata": {
    "ExecuteTime": {
     "end_time": "2022-07-14T11:01:33.460742Z",
     "start_time": "2022-07-14T11:01:29.551930Z"
    }
   },
   "outputs": [],
   "source": [
    "df_TEDSD = pd.read_csv('/Users/dolant98/Documents/Flatiron/Projects/Data/tedsd_puf_2019.csv')"
   ]
  },
  {
   "cell_type": "markdown",
   "metadata": {},
   "source": [
    "## Assessment of data cleanliness"
   ]
  },
  {
   "cell_type": "markdown",
   "metadata": {},
   "source": [
    "### Columns and data types:"
   ]
  },
  {
   "cell_type": "code",
   "execution_count": 3,
   "metadata": {
    "ExecuteTime": {
     "end_time": "2022-07-14T11:01:33.468999Z",
     "start_time": "2022-07-14T11:01:33.462128Z"
    }
   },
   "outputs": [
    {
     "name": "stdout",
     "output_type": "stream",
     "text": [
      "<class 'pandas.core.frame.DataFrame'>\n",
      "RangeIndex: 1722503 entries, 0 to 1722502\n",
      "Data columns (total 76 columns):\n",
      " #   Column                 Dtype\n",
      "---  ------                 -----\n",
      " 0   DISYR                  int64\n",
      " 1   CASEID                 int64\n",
      " 2   STFIPS                 int64\n",
      " 3   CBSA2010               int64\n",
      " 4   EDUC                   int64\n",
      " 5   MARSTAT                int64\n",
      " 6   SERVICES               int64\n",
      " 7   DETCRIM                int64\n",
      " 8   LOS                    int64\n",
      " 9   PSOURCE                int64\n",
      " 10  NOPRIOR                int64\n",
      " 11  ARRESTS                int64\n",
      " 12  EMPLOY                 int64\n",
      " 13  METHUSE                int64\n",
      " 14  PSYPROB                int64\n",
      " 15  PREG                   int64\n",
      " 16  GENDER                 int64\n",
      " 17  VET                    int64\n",
      " 18  LIVARAG                int64\n",
      " 19  DAYWAIT                int64\n",
      " 20  SERVICES_D             int64\n",
      " 21  REASON                 int64\n",
      " 22  EMPLOY_D               int64\n",
      " 23  LIVARAG_D              int64\n",
      " 24  ARRESTS_D              int64\n",
      " 25  DSMCRIT                int64\n",
      " 26  AGE                    int64\n",
      " 27  RACE                   int64\n",
      " 28  ETHNIC                 int64\n",
      " 29  DETNLF                 int64\n",
      " 30  DETNLF_D               int64\n",
      " 31  PRIMINC                int64\n",
      " 32  SUB1                   int64\n",
      " 33  SUB2                   int64\n",
      " 34  SUB3                   int64\n",
      " 35  SUB1_D                 int64\n",
      " 36  SUB2_D                 int64\n",
      " 37  SUB3_D                 int64\n",
      " 38  ROUTE1                 int64\n",
      " 39  ROUTE2                 int64\n",
      " 40  ROUTE3                 int64\n",
      " 41  FREQ1                  int64\n",
      " 42  FREQ2                  int64\n",
      " 43  FREQ3                  int64\n",
      " 44  FREQ1_D                int64\n",
      " 45  FREQ2_D                int64\n",
      " 46  FREQ3_D                int64\n",
      " 47  FRSTUSE1               int64\n",
      " 48  FRSTUSE2               int64\n",
      " 49  FRSTUSE3               int64\n",
      " 50  HLTHINS                int64\n",
      " 51  PRIMPAY                int64\n",
      " 52  FREQ_ATND_SELF_HELP    int64\n",
      " 53  FREQ_ATND_SELF_HELP_D  int64\n",
      " 54  ALCFLG                 int64\n",
      " 55  COKEFLG                int64\n",
      " 56  MARFLG                 int64\n",
      " 57  HERFLG                 int64\n",
      " 58  METHFLG                int64\n",
      " 59  OPSYNFLG               int64\n",
      " 60  PCPFLG                 int64\n",
      " 61  HALLFLG                int64\n",
      " 62  MTHAMFLG               int64\n",
      " 63  AMPHFLG                int64\n",
      " 64  STIMFLG                int64\n",
      " 65  BENZFLG                int64\n",
      " 66  TRNQFLG                int64\n",
      " 67  BARBFLG                int64\n",
      " 68  SEDHPFLG               int64\n",
      " 69  INHFLG                 int64\n",
      " 70  OTCFLG                 int64\n",
      " 71  OTHERFLG               int64\n",
      " 72  DIVISION               int64\n",
      " 73  REGION                 int64\n",
      " 74  IDU                    int64\n",
      " 75  ALCDRUG                int64\n",
      "dtypes: int64(76)\n",
      "memory usage: 998.8 MB\n"
     ]
    }
   ],
   "source": [
    "df_TEDSD.info()"
   ]
  },
  {
   "cell_type": "markdown",
   "metadata": {},
   "source": [
    "**NOTE:** \n",
    "- The data has already been converted to numeric values and labeled (see data dictionary).  This takes care of some of the pre-processing steps.  \n",
    "\n",
    "- The number of records matches the expected number based on the supporting documentation linked above.  "
   ]
  },
  {
   "cell_type": "markdown",
   "metadata": {},
   "source": [
    "### Missing/Null/ and Dummy Values\n",
    "\n",
    "The next step is to assess if there are any null values in the df_TEDSD dataframe.  "
   ]
  },
  {
   "cell_type": "code",
   "execution_count": 4,
   "metadata": {
    "ExecuteTime": {
     "end_time": "2022-07-14T11:01:33.514033Z",
     "start_time": "2022-07-14T11:01:33.470525Z"
    }
   },
   "outputs": [
    {
     "data": {
      "text/plain": [
       "False"
      ]
     },
     "execution_count": 4,
     "metadata": {},
     "output_type": "execute_result"
    }
   ],
   "source": [
    "df_TEDSD.isnull().values.any()"
   ]
  },
  {
   "cell_type": "markdown",
   "metadata": {},
   "source": [
    "**Note** While there are no null values, there is a dummy (placeholder) value of \"-9\" which is used to indicate that the data was not collected, is not known, or is not applicable for the individual.  "
   ]
  },
  {
   "cell_type": "code",
   "execution_count": 5,
   "metadata": {
    "ExecuteTime": {
     "end_time": "2022-07-14T11:01:34.498945Z",
     "start_time": "2022-07-14T11:01:33.515026Z"
    }
   },
   "outputs": [
    {
     "data": {
      "text/html": [
       "<div>\n",
       "<style scoped>\n",
       "    .dataframe tbody tr th:only-of-type {\n",
       "        vertical-align: middle;\n",
       "    }\n",
       "\n",
       "    .dataframe tbody tr th {\n",
       "        vertical-align: top;\n",
       "    }\n",
       "\n",
       "    .dataframe thead th {\n",
       "        text-align: right;\n",
       "    }\n",
       "</style>\n",
       "<table border=\"1\" class=\"dataframe\">\n",
       "  <thead>\n",
       "    <tr style=\"text-align: right;\">\n",
       "      <th></th>\n",
       "      <th>DISYR</th>\n",
       "      <th>CASEID</th>\n",
       "      <th>STFIPS</th>\n",
       "      <th>CBSA2010</th>\n",
       "      <th>EDUC</th>\n",
       "      <th>MARSTAT</th>\n",
       "      <th>SERVICES</th>\n",
       "      <th>DETCRIM</th>\n",
       "      <th>LOS</th>\n",
       "      <th>PSOURCE</th>\n",
       "      <th>...</th>\n",
       "      <th>TRNQFLG</th>\n",
       "      <th>BARBFLG</th>\n",
       "      <th>SEDHPFLG</th>\n",
       "      <th>INHFLG</th>\n",
       "      <th>OTCFLG</th>\n",
       "      <th>OTHERFLG</th>\n",
       "      <th>DIVISION</th>\n",
       "      <th>REGION</th>\n",
       "      <th>IDU</th>\n",
       "      <th>ALCDRUG</th>\n",
       "    </tr>\n",
       "  </thead>\n",
       "  <tbody>\n",
       "    <tr>\n",
       "      <th>0</th>\n",
       "      <td>2019</td>\n",
       "      <td>20191553576</td>\n",
       "      <td>2</td>\n",
       "      <td>-9</td>\n",
       "      <td>4</td>\n",
       "      <td>1</td>\n",
       "      <td>7</td>\n",
       "      <td>-9</td>\n",
       "      <td>37</td>\n",
       "      <td>1</td>\n",
       "      <td>...</td>\n",
       "      <td>0</td>\n",
       "      <td>0</td>\n",
       "      <td>0</td>\n",
       "      <td>0</td>\n",
       "      <td>0</td>\n",
       "      <td>0</td>\n",
       "      <td>9</td>\n",
       "      <td>4</td>\n",
       "      <td>0</td>\n",
       "      <td>1</td>\n",
       "    </tr>\n",
       "    <tr>\n",
       "      <th>1</th>\n",
       "      <td>2019</td>\n",
       "      <td>20191465214</td>\n",
       "      <td>2</td>\n",
       "      <td>-9</td>\n",
       "      <td>3</td>\n",
       "      <td>1</td>\n",
       "      <td>7</td>\n",
       "      <td>-9</td>\n",
       "      <td>35</td>\n",
       "      <td>1</td>\n",
       "      <td>...</td>\n",
       "      <td>0</td>\n",
       "      <td>0</td>\n",
       "      <td>0</td>\n",
       "      <td>0</td>\n",
       "      <td>0</td>\n",
       "      <td>0</td>\n",
       "      <td>9</td>\n",
       "      <td>4</td>\n",
       "      <td>0</td>\n",
       "      <td>3</td>\n",
       "    </tr>\n",
       "    <tr>\n",
       "      <th>2</th>\n",
       "      <td>2019</td>\n",
       "      <td>20191443889</td>\n",
       "      <td>2</td>\n",
       "      <td>-9</td>\n",
       "      <td>2</td>\n",
       "      <td>1</td>\n",
       "      <td>7</td>\n",
       "      <td>-9</td>\n",
       "      <td>35</td>\n",
       "      <td>1</td>\n",
       "      <td>...</td>\n",
       "      <td>0</td>\n",
       "      <td>0</td>\n",
       "      <td>0</td>\n",
       "      <td>0</td>\n",
       "      <td>0</td>\n",
       "      <td>0</td>\n",
       "      <td>9</td>\n",
       "      <td>4</td>\n",
       "      <td>0</td>\n",
       "      <td>3</td>\n",
       "    </tr>\n",
       "    <tr>\n",
       "      <th>3</th>\n",
       "      <td>2019</td>\n",
       "      <td>20191409377</td>\n",
       "      <td>2</td>\n",
       "      <td>-9</td>\n",
       "      <td>3</td>\n",
       "      <td>1</td>\n",
       "      <td>7</td>\n",
       "      <td>-9</td>\n",
       "      <td>37</td>\n",
       "      <td>1</td>\n",
       "      <td>...</td>\n",
       "      <td>0</td>\n",
       "      <td>0</td>\n",
       "      <td>0</td>\n",
       "      <td>0</td>\n",
       "      <td>0</td>\n",
       "      <td>0</td>\n",
       "      <td>9</td>\n",
       "      <td>4</td>\n",
       "      <td>0</td>\n",
       "      <td>3</td>\n",
       "    </tr>\n",
       "    <tr>\n",
       "      <th>4</th>\n",
       "      <td>2019</td>\n",
       "      <td>20191479567</td>\n",
       "      <td>2</td>\n",
       "      <td>-9</td>\n",
       "      <td>3</td>\n",
       "      <td>3</td>\n",
       "      <td>7</td>\n",
       "      <td>-9</td>\n",
       "      <td>37</td>\n",
       "      <td>1</td>\n",
       "      <td>...</td>\n",
       "      <td>0</td>\n",
       "      <td>0</td>\n",
       "      <td>0</td>\n",
       "      <td>0</td>\n",
       "      <td>0</td>\n",
       "      <td>0</td>\n",
       "      <td>9</td>\n",
       "      <td>4</td>\n",
       "      <td>0</td>\n",
       "      <td>1</td>\n",
       "    </tr>\n",
       "  </tbody>\n",
       "</table>\n",
       "<p>5 rows × 76 columns</p>\n",
       "</div>"
      ],
      "text/plain": [
       "   DISYR       CASEID  STFIPS  CBSA2010  EDUC  MARSTAT  SERVICES  DETCRIM  \\\n",
       "0   2019  20191553576       2        -9     4        1         7       -9   \n",
       "1   2019  20191465214       2        -9     3        1         7       -9   \n",
       "2   2019  20191443889       2        -9     2        1         7       -9   \n",
       "3   2019  20191409377       2        -9     3        1         7       -9   \n",
       "4   2019  20191479567       2        -9     3        3         7       -9   \n",
       "\n",
       "   LOS  PSOURCE  ...  TRNQFLG  BARBFLG  SEDHPFLG  INHFLG  OTCFLG  OTHERFLG  \\\n",
       "0   37        1  ...        0        0         0       0       0         0   \n",
       "1   35        1  ...        0        0         0       0       0         0   \n",
       "2   35        1  ...        0        0         0       0       0         0   \n",
       "3   37        1  ...        0        0         0       0       0         0   \n",
       "4   37        1  ...        0        0         0       0       0         0   \n",
       "\n",
       "   DIVISION  REGION  IDU  ALCDRUG  \n",
       "0         9       4    0        1  \n",
       "1         9       4    0        3  \n",
       "2         9       4    0        3  \n",
       "3         9       4    0        3  \n",
       "4         9       4    0        1  \n",
       "\n",
       "[5 rows x 76 columns]"
      ]
     },
     "execution_count": 5,
     "metadata": {},
     "output_type": "execute_result"
    }
   ],
   "source": [
    "df_TEDSD[df_TEDSD.isin([-9]).any(axis = 1)].head()"
   ]
  },
  {
   "cell_type": "code",
   "execution_count": 6,
   "metadata": {
    "ExecuteTime": {
     "end_time": "2022-07-14T11:01:34.501391Z",
     "start_time": "2022-07-14T11:01:34.499848Z"
    }
   },
   "outputs": [],
   "source": [
    "pd.set_option('display.max_columns', None)\n",
    "pd.set_option(\"max_rows\", None)"
   ]
  },
  {
   "cell_type": "markdown",
   "metadata": {},
   "source": [
    "**Note:** The output below shows the list of columns the corresponding count of rows with a dummy value of '-9'.  \n",
    "There are many columns for which '-9' accounts for a majority of the records.  The data dictionary/codebook explains that if the column is not relevant for the individual (i.e. - Pregnancy Status), the dummy value is used. "
   ]
  },
  {
   "cell_type": "code",
   "execution_count": 7,
   "metadata": {
    "ExecuteTime": {
     "end_time": "2022-07-14T11:01:36.765310Z",
     "start_time": "2022-07-14T11:01:34.502127Z"
    }
   },
   "outputs": [
    {
     "data": {
      "text/plain": [
       "FREQ3_D                  1441000\n",
       "DETCRIM                  1397909\n",
       "FREQ3                    1372001\n",
       "FRSTUSE3                 1371909\n",
       "ROUTE3                   1362519\n",
       "DETNLF_D                 1332282\n",
       "DETNLF                   1251911\n",
       "FREQ2_D                  1183470\n",
       "PREG                     1136767\n",
       "PRIMPAY                   989974\n",
       "DAYWAIT                   920756\n",
       "HLTHINS                   868565\n",
       "FRSTUSE2                  844104\n",
       "FREQ2                     818003\n",
       "ROUTE2                    817221\n",
       "CBSA2010                  704011\n",
       "PRIMINC                   680082\n",
       "FREQ1_D                   537124\n",
       "DSMCRIT                   410311\n",
       "FREQ_ATND_SELF_HELP_D     376995\n",
       "MARSTAT                   360937\n",
       "LIVARAG_D                 354754\n",
       "ARRESTS_D                 340163\n",
       "FREQ_ATND_SELF_HELP       327054\n",
       "EMPLOY_D                  322858\n",
       "PSYPROB                   225375\n",
       "SUB1_D                    217220\n",
       "FREQ1                     196872\n",
       "SUB3                      185870\n",
       "ARRESTS                   182116\n",
       "METHUSE                   178805\n",
       "EDUC                      174935\n",
       "LIVARAG                   174307\n",
       "VET                       174003\n",
       "EMPLOY                    152365\n",
       "FRSTUSE1                  150579\n",
       "ROUTE1                    142828\n",
       "NOPRIOR                   136613\n",
       "IDU                       131797\n",
       "SUB2_D                    123173\n",
       "PSOURCE                   120477\n",
       "SUB1                       99426\n",
       "SUB3_D                     82543\n",
       "SUB2                       62316\n",
       "ETHNIC                     60872\n",
       "RACE                       58924\n",
       "GENDER                       756\n",
       "SERVICES                       0\n",
       "LOS                            0\n",
       "STFIPS                         0\n",
       "REASON                         0\n",
       "CASEID                         0\n",
       "SERVICES_D                     0\n",
       "ALCDRUG                        0\n",
       "AGE                            0\n",
       "ALCFLG                         0\n",
       "REGION                         0\n",
       "DIVISION                       0\n",
       "OTHERFLG                       0\n",
       "OTCFLG                         0\n",
       "INHFLG                         0\n",
       "SEDHPFLG                       0\n",
       "BARBFLG                        0\n",
       "TRNQFLG                        0\n",
       "BENZFLG                        0\n",
       "STIMFLG                        0\n",
       "AMPHFLG                        0\n",
       "MTHAMFLG                       0\n",
       "HALLFLG                        0\n",
       "PCPFLG                         0\n",
       "OPSYNFLG                       0\n",
       "METHFLG                        0\n",
       "HERFLG                         0\n",
       "MARFLG                         0\n",
       "COKEFLG                        0\n",
       "DISYR                          0\n",
       "dtype: int64"
      ]
     },
     "metadata": {},
     "output_type": "display_data"
    }
   ],
   "source": [
    "display(df_TEDSD[df_TEDSD == -9].count().sort_values(ascending = False))"
   ]
  },
  {
   "cell_type": "markdown",
   "metadata": {},
   "source": [
    "**Employment** - In the case of employment status upon admission to the program, there are a total of 152,365 where this information is not known. This represents 9% of the total population.  "
   ]
  },
  {
   "cell_type": "code",
   "execution_count": 8,
   "metadata": {
    "ExecuteTime": {
     "end_time": "2022-07-14T11:01:36.778888Z",
     "start_time": "2022-07-14T11:01:36.768128Z"
    }
   },
   "outputs": [
    {
     "data": {
      "text/plain": [
       " 2    0.065444\n",
       "-9    0.088456\n",
       " 1    0.162323\n",
       " 4    0.315197\n",
       " 3    0.368580\n",
       "Name: EMPLOY, dtype: float64"
      ]
     },
     "execution_count": 8,
     "metadata": {},
     "output_type": "execute_result"
    }
   ],
   "source": [
    "df_TEDSD['EMPLOY'].value_counts(normalize = True).sort_values(ascending = True)"
   ]
  },
  {
   "cell_type": "markdown",
   "metadata": {},
   "source": [
    "### Columns to drop\n",
    "\n",
    "- DISYR is the discharge year and is always = 2019 in this dataframe.  \n",
    "- CASEID is the unique identifier representing treatment episode encounter.  Since the index also acts as a unique identifier, the CASEID will be dropped.  \n",
    "\n",
    "Dropping these two columns will avoid any skewing when scaling the data"
   ]
  },
  {
   "cell_type": "code",
   "execution_count": 9,
   "metadata": {
    "ExecuteTime": {
     "end_time": "2022-07-14T11:01:37.024901Z",
     "start_time": "2022-07-14T11:01:36.780483Z"
    }
   },
   "outputs": [],
   "source": [
    "df_TEDSD_staging = df_TEDSD.drop(['DISYR','CASEID'], axis = 1)"
   ]
  },
  {
   "cell_type": "markdown",
   "metadata": {},
   "source": [
    "### Create a subset of the dataframe for Outpatient Therapy\n",
    "\n",
    "In order to have comparable population, the 24-hour Detox and Inpatient Treatment Episodes should be excluded.  Based on the documentation on page 33 of the dictionary/codebook, the expected number of records for *SERVICE 6 (Ambulatory - Intensive Outpatient)* and *7 (Ambulatory, Non-intensive Outpatient)* are *878,381* and *235,640* respectively.    "
   ]
  },
  {
   "cell_type": "code",
   "execution_count": 10,
   "metadata": {
    "ExecuteTime": {
     "end_time": "2022-07-14T11:01:37.035597Z",
     "start_time": "2022-07-14T11:01:37.026192Z"
    }
   },
   "outputs": [
    {
     "data": {
      "text/plain": [
       "7    878381\n",
       "2    245663\n",
       "6    235640\n",
       "4    180040\n",
       "5    121580\n",
       "1     43961\n",
       "8     13292\n",
       "3      3946\n",
       "Name: SERVICES, dtype: int64"
      ]
     },
     "execution_count": 10,
     "metadata": {},
     "output_type": "execute_result"
    }
   ],
   "source": [
    "df_TEDSD_staging['SERVICES'].value_counts()"
   ]
  },
  {
   "cell_type": "markdown",
   "metadata": {},
   "source": [
    "Since the counts for the two outpatient categories have been confirmed, a subset of the dataframe is created: **\"td_ted_out\"**"
   ]
  },
  {
   "cell_type": "code",
   "execution_count": 11,
   "metadata": {
    "ExecuteTime": {
     "end_time": "2022-07-14T11:01:37.261065Z",
     "start_time": "2022-07-14T11:01:37.036683Z"
    }
   },
   "outputs": [],
   "source": [
    "df_ted_out = df_TEDSD_staging[df_TEDSD['SERVICES'].isin([6,7])]"
   ]
  },
  {
   "cell_type": "markdown",
   "metadata": {},
   "source": [
    "Based on the number of rows in SERVICE 6 and 7, the number of rows in df_ted_out should = 1,114,021"
   ]
  },
  {
   "cell_type": "code",
   "execution_count": 12,
   "metadata": {
    "ExecuteTime": {
     "end_time": "2022-07-14T11:01:37.264514Z",
     "start_time": "2022-07-14T11:01:37.262053Z"
    }
   },
   "outputs": [
    {
     "data": {
      "text/plain": [
       "(1114021, 74)"
      ]
     },
     "execution_count": 12,
     "metadata": {},
     "output_type": "execute_result"
    }
   ],
   "source": [
    "df_ted_out.shape"
   ]
  },
  {
   "cell_type": "markdown",
   "metadata": {},
   "source": [
    "#### Re-evaluate dummy value frequency in subset"
   ]
  },
  {
   "cell_type": "code",
   "execution_count": 13,
   "metadata": {
    "ExecuteTime": {
     "end_time": "2022-07-14T11:01:38.596749Z",
     "start_time": "2022-07-14T11:01:37.265684Z"
    }
   },
   "outputs": [
    {
     "data": {
      "text/plain": [
       "FREQ3_D                  937839\n",
       "FREQ3                    901600\n",
       "FRSTUSE3                 900053\n",
       "DETNLF_D                 897919\n",
       "ROUTE3                   895315\n",
       "DETNLF                   883080\n",
       "DETCRIM                  855739\n",
       "FREQ2_D                  774124\n",
       "PREG                     698474\n",
       "DAYWAIT                  647995\n",
       "PRIMPAY                  591304\n",
       "FRSTUSE2                 576455\n",
       "FREQ2                    563112\n",
       "ROUTE2                   562169\n",
       "HLTHINS                  545238\n",
       "CBSA2010                 511493\n",
       "PRIMINC                  502579\n",
       "FREQ1_D                  372125\n",
       "FREQ_ATND_SELF_HELP_D    312196\n",
       "LIVARAG_D                244513\n",
       "DSMCRIT                  236385\n",
       "ARRESTS_D                232964\n",
       "MARSTAT                  222671\n",
       "EMPLOY_D                 213229\n",
       "FREQ_ATND_SELF_HELP      199385\n",
       "FREQ1                    166825\n",
       "LIVARAG                  156197\n",
       "EDUC                     156149\n",
       "VET                      154995\n",
       "SUB1_D                   136798\n",
       "FRSTUSE1                 134768\n",
       "EMPLOY                   133203\n",
       "ROUTE1                   129762\n",
       "SUB3                     124476\n",
       "IDU                      121573\n",
       "METHUSE                  111928\n",
       "PSOURCE                  107827\n",
       "ARRESTS                  101735\n",
       "PSYPROB                   98340\n",
       "SUB2_D                    93309\n",
       "SUB1                      92329\n",
       "SUB3_D                    55049\n",
       "ETHNIC                    51457\n",
       "SUB2                      48834\n",
       "NOPRIOR                   48729\n",
       "RACE                      47778\n",
       "GENDER                      463\n",
       "REASON                        0\n",
       "LOS                           0\n",
       "SERVICES                      0\n",
       "SERVICES_D                    0\n",
       "ALCDRUG                       0\n",
       "AGE                           0\n",
       "ALCFLG                        0\n",
       "REGION                        0\n",
       "DIVISION                      0\n",
       "OTHERFLG                      0\n",
       "OTCFLG                        0\n",
       "INHFLG                        0\n",
       "SEDHPFLG                      0\n",
       "BARBFLG                       0\n",
       "TRNQFLG                       0\n",
       "BENZFLG                       0\n",
       "STIMFLG                       0\n",
       "AMPHFLG                       0\n",
       "MTHAMFLG                      0\n",
       "HALLFLG                       0\n",
       "PCPFLG                        0\n",
       "OPSYNFLG                      0\n",
       "METHFLG                       0\n",
       "HERFLG                        0\n",
       "MARFLG                        0\n",
       "COKEFLG                       0\n",
       "STFIPS                        0\n",
       "dtype: int64"
      ]
     },
     "metadata": {},
     "output_type": "display_data"
    }
   ],
   "source": [
    "display(df_ted_out[df_ted_out == -9].count().sort_values(ascending = False))"
   ]
  },
  {
   "cell_type": "markdown",
   "metadata": {},
   "source": [
    "There are still a substantial number of columns and rows with dummy values.  The columns with the most are those which do not apply to all individuals in the treatment program.  For example, the columns which start with sub2, sub3, freq2, freq3, pertain to secondary and tertiary drugs that the individual is using.  If the individual is using only one drug, these columns will contain a -9 in these columns.  "
   ]
  },
  {
   "cell_type": "markdown",
   "metadata": {},
   "source": [
    "## Baseline Model"
   ]
  },
  {
   "cell_type": "markdown",
   "metadata": {},
   "source": [
    "### Train/Test Split \n",
    "- Train Test split using a test size of 33% and Random State = 42"
   ]
  },
  {
   "cell_type": "code",
   "execution_count": 14,
   "metadata": {
    "ExecuteTime": {
     "end_time": "2022-07-14T11:01:39.253217Z",
     "start_time": "2022-07-14T11:01:38.597781Z"
    }
   },
   "outputs": [],
   "source": [
    "# Defining X and y\n",
    "X = df_ted_out.drop('REASON', axis = 1)\n",
    "y = df_ted_out['REASON']\n",
    "\n",
    "# Train-test split\n",
    "# Set test_size=0.33 and random_state=42\n",
    "\n",
    "X_train, X_test, y_train, y_test = train_test_split(X, y, test_size=.33,\n",
    "                                                   random_state=42)\n"
   ]
  },
  {
   "cell_type": "markdown",
   "metadata": {},
   "source": [
    "### Scaling and Transforming Data\n",
    "- X_train is also fitted"
   ]
  },
  {
   "cell_type": "code",
   "execution_count": 15,
   "metadata": {
    "ExecuteTime": {
     "end_time": "2022-07-14T11:01:39.894201Z",
     "start_time": "2022-07-14T11:01:39.254166Z"
    }
   },
   "outputs": [],
   "source": [
    "scaler = StandardScaler()\n",
    "\n",
    "X_train_scaled = scaler.fit_transform(X_train)\n",
    "X_test_scaled = scaler.transform(X_test)"
   ]
  },
  {
   "cell_type": "markdown",
   "metadata": {},
   "source": [
    "#### Review distribution of target (y_train)"
   ]
  },
  {
   "cell_type": "code",
   "execution_count": 16,
   "metadata": {
    "ExecuteTime": {
     "end_time": "2022-07-14T11:01:39.901566Z",
     "start_time": "2022-07-14T11:01:39.895313Z"
    }
   },
   "outputs": [
    {
     "data": {
      "text/plain": [
       "1    0.350421\n",
       "2    0.273278\n",
       "4    0.240570\n",
       "3    0.062616\n",
       "7    0.048417\n",
       "5    0.021624\n",
       "6    0.003075\n",
       "Name: REASON, dtype: float64"
      ]
     },
     "execution_count": 16,
     "metadata": {},
     "output_type": "execute_result"
    }
   ],
   "source": [
    "y_train.value_counts(normalize = True)"
   ]
  },
  {
   "cell_type": "markdown",
   "metadata": {},
   "source": [
    "The output above shows:\n",
    "   \n",
    "   - **Completed Treatment** - 35% of the individuals completed treatment \n",
    "   - **Attrition** - 33% dropped out of the program or were terminated by the facility (categories 2 and 3), \n",
    "   - **Transferred** - 24% were transferred to another program, \n",
    "   - **Other** - the remaining 8% were incarcerated, died, or left the program for 'other' reasons.   "
   ]
  },
  {
   "cell_type": "markdown",
   "metadata": {},
   "source": [
    "#### Logistic Regression"
   ]
  },
  {
   "cell_type": "code",
   "execution_count": 17,
   "metadata": {
    "ExecuteTime": {
     "end_time": "2022-07-14T11:03:15.949538Z",
     "start_time": "2022-07-14T11:01:39.902698Z"
    }
   },
   "outputs": [
    {
     "data": {
      "text/plain": [
       "0.6234307885647526"
      ]
     },
     "metadata": {},
     "output_type": "display_data"
    },
    {
     "data": {
      "text/plain": [
       "0.6235613815089751"
      ]
     },
     "metadata": {},
     "output_type": "display_data"
    }
   ],
   "source": [
    "logreg = LogisticRegression(random_state = 42, max_iter = 1000)\n",
    "logreg.fit(X_train_scaled, y_train)\n",
    "display(logreg.score(X_train_scaled, y_train))\n",
    "display(logreg.score(X_test_scaled, y_test))"
   ]
  },
  {
   "cell_type": "markdown",
   "metadata": {},
   "source": [
    "##### Output \n",
    "\n",
    "The score is low at 62%, however it is very close across the train and test data which implies that the model is not overfitting.  The number of REASON categories may be making it difficult for the model to predict the outcome.  As a first step, I will consolidate the 7 categories into 3.  "
   ]
  },
  {
   "cell_type": "markdown",
   "metadata": {},
   "source": [
    "## Refining the dataframe - Part I"
   ]
  },
  {
   "cell_type": "markdown",
   "metadata": {},
   "source": [
    " ### Update to REASON (target) classification"
   ]
  },
  {
   "cell_type": "code",
   "execution_count": 18,
   "metadata": {
    "ExecuteTime": {
     "end_time": "2022-07-14T11:03:15.954855Z",
     "start_time": "2022-07-14T11:03:15.950505Z"
    }
   },
   "outputs": [
    {
     "data": {
      "text/plain": [
       "1    0.349313\n",
       "2    0.274838\n",
       "4    0.240371\n",
       "3    0.062449\n",
       "7    0.048193\n",
       "5    0.021758\n",
       "6    0.003076\n",
       "Name: REASON, dtype: float64"
      ]
     },
     "execution_count": 18,
     "metadata": {},
     "output_type": "execute_result"
    }
   ],
   "source": [
    "y_test.value_counts(normalize = True)"
   ]
  },
  {
   "cell_type": "markdown",
   "metadata": {},
   "source": [
    "The distribution of REASON in the y_test file is similar to the distribution in y_train.  That said, the number of categories and lower frequencies for some of them may be weakening the model.  As a result, I will update the REASON classfication to a more concise grouping.  \n",
    "\n",
    "The new grouping is below: \n",
    "\n",
    " - 1 - Complete ---> 1 - Complete\n",
    " - 2 - Dropped Out ---> 2 - Incomplete\n",
    " - 3 - Terminated ---> 2 - Incomplete\n",
    " - 4 - Transferred ---> 3 - Other\n",
    " - 5 - Incarcerated ---> 3 - Other\n",
    " - 6 - Death ---> 3 - Other\n",
    " - 7 - Other ---> 3 - Other"
   ]
  },
  {
   "cell_type": "markdown",
   "metadata": {},
   "source": [
    "The code below is creating and updating a new column to reflect the mapping of REASON codes above. "
   ]
  },
  {
   "cell_type": "code",
   "execution_count": 19,
   "metadata": {
    "ExecuteTime": {
     "end_time": "2022-07-14T11:03:16.141188Z",
     "start_time": "2022-07-14T11:03:15.955787Z"
    }
   },
   "outputs": [],
   "source": [
    "outcome = []\n",
    "\n",
    "for reason in df_ted_out['REASON']:\n",
    "    if reason == 1:   \n",
    "        outcome.append(1)\n",
    "    elif reason == 2: \n",
    "        outcome.append(2)\n",
    "    elif reason == 3: \n",
    "        outcome.append(2)    \n",
    "    else:           \n",
    "        outcome.append(3)"
   ]
  },
  {
   "cell_type": "code",
   "execution_count": 20,
   "metadata": {
    "ExecuteTime": {
     "end_time": "2022-07-14T11:03:16.331085Z",
     "start_time": "2022-07-14T11:03:16.142114Z"
    }
   },
   "outputs": [
    {
     "name": "stderr",
     "output_type": "stream",
     "text": [
      "<ipython-input-20-cb498fb9e484>:1: SettingWithCopyWarning: \n",
      "A value is trying to be set on a copy of a slice from a DataFrame.\n",
      "Try using .loc[row_indexer,col_indexer] = value instead\n",
      "\n",
      "See the caveats in the documentation: https://pandas.pydata.org/pandas-docs/stable/user_guide/indexing.html#returning-a-view-versus-a-copy\n",
      "  df_ted_out['OUTCOME'] = outcome\n"
     ]
    }
   ],
   "source": [
    "df_ted_out['OUTCOME'] = outcome"
   ]
  },
  {
   "cell_type": "code",
   "execution_count": 21,
   "metadata": {
    "ExecuteTime": {
     "end_time": "2022-07-14T11:03:16.334927Z",
     "start_time": "2022-07-14T11:03:16.332065Z"
    }
   },
   "outputs": [
    {
     "data": {
      "text/plain": [
       "0    1\n",
       "1    2\n",
       "2    2\n",
       "3    1\n",
       "4    2\n",
       "5    2\n",
       "6    3\n",
       "7    1\n",
       "8    2\n",
       "9    2\n",
       "Name: OUTCOME, dtype: int64"
      ]
     },
     "execution_count": 21,
     "metadata": {},
     "output_type": "execute_result"
    }
   ],
   "source": [
    "df_ted_out['OUTCOME'].head(10)"
   ]
  },
  {
   "cell_type": "markdown",
   "metadata": {},
   "source": [
    "## Re-running the model - Part I"
   ]
  },
  {
   "cell_type": "markdown",
   "metadata": {},
   "source": [
    "### Updated Logistic Regression"
   ]
  },
  {
   "cell_type": "markdown",
   "metadata": {},
   "source": [
    "#### Train/Test Split \n",
    "\n",
    "Defining X and y.  Note that columns OUTCOME and REASON are dropped when creating X.  "
   ]
  },
  {
   "cell_type": "code",
   "execution_count": 22,
   "metadata": {
    "ExecuteTime": {
     "end_time": "2022-07-14T11:03:17.539490Z",
     "start_time": "2022-07-14T11:03:16.336014Z"
    }
   },
   "outputs": [],
   "source": [
    "# Defining X and y\n",
    "X = df_ted_out.drop(['OUTCOME','REASON'], axis = 1)\n",
    "y = df_ted_out['OUTCOME']\n",
    "\n",
    "# Train-test split\n",
    "# Set test_size=0.33 and random_state=42\n",
    "\n",
    "X_train, X_test, y_train, y_test = train_test_split(X, y, test_size=.33,\n",
    "                                                   random_state=42)"
   ]
  },
  {
   "cell_type": "markdown",
   "metadata": {},
   "source": [
    "#### Scaling and Transforming Data"
   ]
  },
  {
   "cell_type": "code",
   "execution_count": 23,
   "metadata": {
    "ExecuteTime": {
     "end_time": "2022-07-14T11:03:18.228422Z",
     "start_time": "2022-07-14T11:03:17.542927Z"
    }
   },
   "outputs": [],
   "source": [
    "scaler = StandardScaler()\n",
    "\n",
    "X_train_scaled = scaler.fit_transform(X_train)\n",
    "X_test_scaled = scaler.transform(X_test)"
   ]
  },
  {
   "cell_type": "markdown",
   "metadata": {
    "ExecuteTime": {
     "end_time": "2022-07-13T18:00:44.955288Z",
     "start_time": "2022-07-13T18:00:44.946255Z"
    }
   },
   "source": [
    "#### Distribution of  y (target) variable"
   ]
  },
  {
   "cell_type": "code",
   "execution_count": 24,
   "metadata": {
    "ExecuteTime": {
     "end_time": "2022-07-14T11:03:18.235762Z",
     "start_time": "2022-07-14T11:03:18.229959Z"
    }
   },
   "outputs": [
    {
     "data": {
      "text/plain": [
       "1    0.350421\n",
       "2    0.335894\n",
       "3    0.313686\n",
       "Name: OUTCOME, dtype: float64"
      ]
     },
     "execution_count": 24,
     "metadata": {},
     "output_type": "execute_result"
    }
   ],
   "source": [
    "y_train.value_counts(normalize = True)"
   ]
  },
  {
   "cell_type": "markdown",
   "metadata": {},
   "source": [
    "Note that the three targets are evenly distributed"
   ]
  },
  {
   "cell_type": "markdown",
   "metadata": {
    "ExecuteTime": {
     "end_time": "2022-07-13T18:01:31.459050Z",
     "start_time": "2022-07-13T18:01:31.448790Z"
    }
   },
   "source": [
    "#### Run logistic regression"
   ]
  },
  {
   "cell_type": "code",
   "execution_count": 25,
   "metadata": {
    "ExecuteTime": {
     "end_time": "2022-07-14T11:03:42.283989Z",
     "start_time": "2022-07-14T11:03:18.236533Z"
    }
   },
   "outputs": [
    {
     "data": {
      "text/plain": [
       "0.6584069539680115"
      ]
     },
     "metadata": {},
     "output_type": "display_data"
    },
    {
     "data": {
      "text/plain": [
       "0.6572476994344811"
      ]
     },
     "metadata": {},
     "output_type": "display_data"
    }
   ],
   "source": [
    "logreg = LogisticRegression(random_state = 42, max_iter = 10000)\n",
    "logreg.fit(X_train_scaled, y_train)\n",
    "display(logreg.score(X_train_scaled, y_train))\n",
    "display(logreg.score(X_test_scaled, y_test))"
   ]
  },
  {
   "cell_type": "markdown",
   "metadata": {},
   "source": [
    "The score improved only slightly.  "
   ]
  },
  {
   "cell_type": "markdown",
   "metadata": {},
   "source": [
    "## Refining the dataframe - Part II"
   ]
  },
  {
   "cell_type": "markdown",
   "metadata": {},
   "source": [
    "### Create subset of dataframe to reflect completed or not completed outcomes"
   ]
  },
  {
   "cell_type": "code",
   "execution_count": 26,
   "metadata": {
    "ExecuteTime": {
     "end_time": "2022-07-14T11:03:42.463392Z",
     "start_time": "2022-07-14T11:03:42.285328Z"
    }
   },
   "outputs": [],
   "source": [
    "df_ted_binary = df_ted_out[df_ted_out['OUTCOME'] != 3]"
   ]
  },
  {
   "cell_type": "code",
   "execution_count": 27,
   "metadata": {
    "ExecuteTime": {
     "end_time": "2022-07-14T11:03:42.466489Z",
     "start_time": "2022-07-14T11:03:42.464326Z"
    }
   },
   "outputs": [
    {
     "data": {
      "text/plain": [
       "(764674, 75)"
      ]
     },
     "execution_count": 27,
     "metadata": {},
     "output_type": "execute_result"
    }
   ],
   "source": [
    "df_ted_binary.shape"
   ]
  },
  {
   "cell_type": "markdown",
   "metadata": {},
   "source": [
    "### Assessing distribution of age and # of episodes pertaining to minors"
   ]
  },
  {
   "cell_type": "code",
   "execution_count": null,
   "metadata": {
    "ExecuteTime": {
     "start_time": "2022-07-14T11:06:43.909Z"
    }
   },
   "outputs": [],
   "source": [
    "df_ted_binary.sort_values(['AGE']).value_counts()"
   ]
  },
  {
   "cell_type": "code",
   "execution_count": null,
   "metadata": {
    "ExecuteTime": {
     "start_time": "2022-07-14T11:01:29.442Z"
    }
   },
   "outputs": [],
   "source": [
    "plt.figure(figsize = (16,10))\n",
    "ax = plt.axes()\n",
    "\n",
    "plt.xlabel(\"Age Grouping\")\n",
    "plt.ylabel(\"# of Rows(Episodes)\")\n",
    "plt.hist(df_ted_binary[\"AGE\"], edgecolor = \"gray\")\n",
    "  \n",
    "plt.text(9.6, 130000, \"Age Groupings\", fontname=\"Arial\", fontweight=\"bold\", fontsize = 13)\n",
    "plt.text(8.5, 125000, \"1: 12-14 years\")\n",
    "plt.text(8.5, 120000, \"2: 15-17 years\")\n",
    "plt.text(8.5, 115000, \"3: 18-20 years\")\n",
    "plt.text(8.5, 110000, \"4: 21-24 years\")\n",
    "plt.text(8.5, 105000, \"5: 25-29 years\")\n",
    "plt.text(8.5, 100000, \"6: 30-34 years\")\n",
    "plt.text(11, 125000, \"7: 35-39 years\")\n",
    "plt.text(11, 120000, \"8: 40-44 years\")\n",
    "plt.text(11, 115000, \"9: 45-49 years\")\n",
    "plt.text(11, 110000, \"10: 50-54 years\")\n",
    "plt.text(11, 105000, \"11: 55-64 years\")\n",
    "plt.text(11, 100000, \"12: 65-95 years\")\n",
    "\n",
    "plt.xticks(np.arange(1, 12.5, 1))\n",
    "plt.show()"
   ]
  },
  {
   "cell_type": "markdown",
   "metadata": {},
   "source": [
    "The chart above shows the distribution of Treatment Episodes by age group.  "
   ]
  },
  {
   "cell_type": "code",
   "execution_count": null,
   "metadata": {
    "ExecuteTime": {
     "start_time": "2022-07-14T11:01:29.467Z"
    }
   },
   "outputs": [],
   "source": [
    "age_lt_18 = len(df_ted_binary[(df_ted_binary['AGE']==1) | (df_ted_binary['AGE']==2)])\n",
    "print(\"The number of episodes for individuals younger than 18 is: \",\"{:,}\".format(age_lt_18))"
   ]
  },
  {
   "cell_type": "markdown",
   "metadata": {},
   "source": [
    "Given the focus on employment and housing, and the added complexity of consent for minors, the rows pertaining to individuals younger than 18 years of age will be removed."
   ]
  },
  {
   "cell_type": "code",
   "execution_count": null,
   "metadata": {
    "ExecuteTime": {
     "start_time": "2022-07-14T11:01:29.495Z"
    }
   },
   "outputs": [],
   "source": [
    "df_ted_binary_gt_17 = df_ted_binary[df_ted_binary['AGE']>2]"
   ]
  },
  {
   "cell_type": "code",
   "execution_count": null,
   "metadata": {
    "ExecuteTime": {
     "start_time": "2022-07-14T11:01:29.496Z"
    }
   },
   "outputs": [],
   "source": [
    "df_ted_binary_gt_17.shape"
   ]
  },
  {
   "cell_type": "code",
   "execution_count": null,
   "metadata": {
    "ExecuteTime": {
     "start_time": "2022-07-14T11:01:29.497Z"
    }
   },
   "outputs": [],
   "source": [
    "# Defining X and y\n",
    "X = df_ted_binary_gt_17.drop(['OUTCOME','REASON'], axis = 1)\n",
    "y = df_ted_binary_gt_17['OUTCOME']\n",
    "\n",
    "# Train-test split\n",
    "# Set test_size=0.33 and random_state=42\n",
    "\n",
    "X_train, X_test, y_train, y_test = train_test_split(X, y, test_size=.33,\n",
    "                                                   random_state=42)"
   ]
  },
  {
   "cell_type": "code",
   "execution_count": null,
   "metadata": {
    "ExecuteTime": {
     "start_time": "2022-07-14T11:01:29.498Z"
    }
   },
   "outputs": [],
   "source": [
    "scaler = StandardScaler()\n",
    "\n",
    "X_train_scaled = scaler.fit_transform(X_train)\n",
    "X_test_scaled = scaler.transform(X_test)"
   ]
  },
  {
   "cell_type": "code",
   "execution_count": null,
   "metadata": {
    "ExecuteTime": {
     "start_time": "2022-07-14T11:01:29.499Z"
    }
   },
   "outputs": [],
   "source": [
    "y_train.value_counts(normalize = True)"
   ]
  },
  {
   "cell_type": "code",
   "execution_count": null,
   "metadata": {
    "ExecuteTime": {
     "start_time": "2022-07-14T11:01:29.499Z"
    }
   },
   "outputs": [],
   "source": [
    "logreg = LogisticRegression(random_state = 42, max_iter = 10000)\n",
    "logreg.fit(X_train_scaled, y_train)\n",
    "display(logreg.score(X_train_scaled, y_train))\n",
    "display(logreg.score(X_test_scaled, y_test))"
   ]
  },
  {
   "cell_type": "code",
   "execution_count": null,
   "metadata": {},
   "outputs": [],
   "source": []
  }
 ],
 "metadata": {
  "kernelspec": {
   "display_name": "Python 3",
   "language": "python",
   "name": "python3"
  },
  "language_info": {
   "codemirror_mode": {
    "name": "ipython",
    "version": 3
   },
   "file_extension": ".py",
   "mimetype": "text/x-python",
   "name": "python",
   "nbconvert_exporter": "python",
   "pygments_lexer": "ipython3",
   "version": "3.8.5"
  },
  "latex_envs": {
   "LaTeX_envs_menu_present": true,
   "autoclose": false,
   "autocomplete": true,
   "bibliofile": "biblio.bib",
   "cite_by": "apalike",
   "current_citInitial": 1,
   "eqLabelWithNumbers": true,
   "eqNumInitial": 1,
   "hotkeys": {
    "equation": "Ctrl-E",
    "itemize": "Ctrl-I"
   },
   "labels_anchors": false,
   "latex_user_defs": false,
   "report_style_numbering": false,
   "user_envs_cfg": false
  },
  "toc": {
   "base_numbering": 1,
   "nav_menu": {},
   "number_sections": true,
   "sideBar": true,
   "skip_h1_title": false,
   "title_cell": "Table of Contents",
   "title_sidebar": "Contents",
   "toc_cell": false,
   "toc_position": {},
   "toc_section_display": true,
   "toc_window_display": true
  }
 },
 "nbformat": 4,
 "nbformat_minor": 4
}
